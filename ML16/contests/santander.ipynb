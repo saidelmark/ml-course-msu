{
 "cells": [
  {
   "cell_type": "code",
   "execution_count": 1,
   "metadata": {
    "collapsed": true,
    "nbpresent": {
     "id": "ddd74744-2108-4bb6-ab40-0d2532bbf8b6"
    }
   },
   "outputs": [],
   "source": [
    "import datetime\n",
    "import numpy as np\n",
    "import pandas as pd\n",
    "\n",
    "from sklearn.preprocessing import LabelEncoder\n",
    "from sklearn.ensemble import RandomForestClassifier"
   ]
  },
  {
   "cell_type": "markdown",
   "metadata": {
    "nbpresent": {
     "id": "63f00b28-4a15-4735-84a9-61587fc30084"
    }
   },
   "source": [
    "# Santander Product Recommendation"
   ]
  },
  {
   "cell_type": "markdown",
   "metadata": {
    "nbpresent": {
     "id": "a13df020-be08-4b74-851d-e8a8c7d5ee56"
    }
   },
   "source": [
    "[Kaggle.com](https://www.kaggle.com/c/santander-product-recommendation/details/evaluation)\n",
    "\n",
    "Цель: рекомендовать **новые** банковские услуги для клиентов в следующем месяце (те, которых не было в предыдущем месяце).\n",
    "\n",
    "Метрика: MAP@7.\n",
    "\n",
    "Обучающая выборка с 2015-01-28 до 2016-05-28, тестовая выборка за 2016-06-28. Public/private разделён случайно.\n",
    "\n",
    "Срок: до 21 декабря.\n"
   ]
  },
  {
   "cell_type": "markdown",
   "metadata": {
    "nbpresent": {
     "id": "4ea97a7b-4b24-4627-80bf-f95a2317772a"
    }
   },
   "source": [
    "## Преобработаем данные"
   ]
  },
  {
   "cell_type": "markdown",
   "metadata": {
    "nbpresent": {
     "id": "6b8f326c-8157-4a9c-8cb6-76f4e515dca7"
    }
   },
   "source": [
    "Вот так делать не стоит:"
   ]
  },
  {
   "cell_type": "code",
   "execution_count": 2,
   "metadata": {
    "collapsed": false,
    "nbpresent": {
     "id": "23a9745b-2281-476a-a4d4-7d40b222fbf7"
    }
   },
   "outputs": [],
   "source": [
    "# data = pd.read_csv('../input/train_ver2.csv') # Error with different types\n",
    "# data = pd.read_csv('../input/train_ver2.csv', low_memory=False) # Memory error"
   ]
  },
  {
   "cell_type": "code",
   "execution_count": 3,
   "metadata": {
    "collapsed": false,
    "nbpresent": {
     "id": "4a31397e-7ff0-404e-bf74-f3156649709c"
    }
   },
   "outputs": [
    {
     "data": {
      "text/html": [
       "<div>\n",
       "<table border=\"1\" class=\"dataframe\">\n",
       "  <thead>\n",
       "    <tr style=\"text-align: right;\">\n",
       "      <th></th>\n",
       "      <th>fecha_dato</th>\n",
       "      <th>ncodpers</th>\n",
       "      <th>ind_empleado</th>\n",
       "      <th>pais_residencia</th>\n",
       "      <th>sexo</th>\n",
       "      <th>age</th>\n",
       "      <th>fecha_alta</th>\n",
       "      <th>ind_nuevo</th>\n",
       "      <th>antiguedad</th>\n",
       "      <th>indrel</th>\n",
       "      <th>...</th>\n",
       "      <th>ind_hip_fin_ult1</th>\n",
       "      <th>ind_plan_fin_ult1</th>\n",
       "      <th>ind_pres_fin_ult1</th>\n",
       "      <th>ind_reca_fin_ult1</th>\n",
       "      <th>ind_tjcr_fin_ult1</th>\n",
       "      <th>ind_valo_fin_ult1</th>\n",
       "      <th>ind_viv_fin_ult1</th>\n",
       "      <th>ind_nomina_ult1</th>\n",
       "      <th>ind_nom_pens_ult1</th>\n",
       "      <th>ind_recibo_ult1</th>\n",
       "    </tr>\n",
       "  </thead>\n",
       "  <tbody>\n",
       "    <tr>\n",
       "      <th>0</th>\n",
       "      <td>2015-01-28</td>\n",
       "      <td>1375586</td>\n",
       "      <td>N</td>\n",
       "      <td>ES</td>\n",
       "      <td>H</td>\n",
       "      <td>35</td>\n",
       "      <td>2015-01-12</td>\n",
       "      <td>0.0</td>\n",
       "      <td>6</td>\n",
       "      <td>1.0</td>\n",
       "      <td>...</td>\n",
       "      <td>0</td>\n",
       "      <td>0</td>\n",
       "      <td>0</td>\n",
       "      <td>0</td>\n",
       "      <td>0</td>\n",
       "      <td>0</td>\n",
       "      <td>0</td>\n",
       "      <td>0</td>\n",
       "      <td>0</td>\n",
       "      <td>0</td>\n",
       "    </tr>\n",
       "    <tr>\n",
       "      <th>1</th>\n",
       "      <td>2015-01-28</td>\n",
       "      <td>1050611</td>\n",
       "      <td>N</td>\n",
       "      <td>ES</td>\n",
       "      <td>V</td>\n",
       "      <td>23</td>\n",
       "      <td>2012-08-10</td>\n",
       "      <td>0.0</td>\n",
       "      <td>35</td>\n",
       "      <td>1.0</td>\n",
       "      <td>...</td>\n",
       "      <td>0</td>\n",
       "      <td>0</td>\n",
       "      <td>0</td>\n",
       "      <td>0</td>\n",
       "      <td>0</td>\n",
       "      <td>0</td>\n",
       "      <td>0</td>\n",
       "      <td>0</td>\n",
       "      <td>0</td>\n",
       "      <td>0</td>\n",
       "    </tr>\n",
       "    <tr>\n",
       "      <th>2</th>\n",
       "      <td>2015-01-28</td>\n",
       "      <td>1050612</td>\n",
       "      <td>N</td>\n",
       "      <td>ES</td>\n",
       "      <td>V</td>\n",
       "      <td>23</td>\n",
       "      <td>2012-08-10</td>\n",
       "      <td>0.0</td>\n",
       "      <td>35</td>\n",
       "      <td>1.0</td>\n",
       "      <td>...</td>\n",
       "      <td>0</td>\n",
       "      <td>0</td>\n",
       "      <td>0</td>\n",
       "      <td>0</td>\n",
       "      <td>0</td>\n",
       "      <td>0</td>\n",
       "      <td>0</td>\n",
       "      <td>0</td>\n",
       "      <td>0</td>\n",
       "      <td>0</td>\n",
       "    </tr>\n",
       "    <tr>\n",
       "      <th>3</th>\n",
       "      <td>2015-01-28</td>\n",
       "      <td>1050613</td>\n",
       "      <td>N</td>\n",
       "      <td>ES</td>\n",
       "      <td>H</td>\n",
       "      <td>22</td>\n",
       "      <td>2012-08-10</td>\n",
       "      <td>0.0</td>\n",
       "      <td>35</td>\n",
       "      <td>1.0</td>\n",
       "      <td>...</td>\n",
       "      <td>0</td>\n",
       "      <td>0</td>\n",
       "      <td>0</td>\n",
       "      <td>0</td>\n",
       "      <td>0</td>\n",
       "      <td>0</td>\n",
       "      <td>0</td>\n",
       "      <td>0</td>\n",
       "      <td>0</td>\n",
       "      <td>0</td>\n",
       "    </tr>\n",
       "    <tr>\n",
       "      <th>4</th>\n",
       "      <td>2015-01-28</td>\n",
       "      <td>1050614</td>\n",
       "      <td>N</td>\n",
       "      <td>ES</td>\n",
       "      <td>V</td>\n",
       "      <td>23</td>\n",
       "      <td>2012-08-10</td>\n",
       "      <td>0.0</td>\n",
       "      <td>35</td>\n",
       "      <td>1.0</td>\n",
       "      <td>...</td>\n",
       "      <td>0</td>\n",
       "      <td>0</td>\n",
       "      <td>0</td>\n",
       "      <td>0</td>\n",
       "      <td>0</td>\n",
       "      <td>0</td>\n",
       "      <td>0</td>\n",
       "      <td>0</td>\n",
       "      <td>0</td>\n",
       "      <td>0</td>\n",
       "    </tr>\n",
       "  </tbody>\n",
       "</table>\n",
       "<p>5 rows × 48 columns</p>\n",
       "</div>"
      ],
      "text/plain": [
       "   fecha_dato  ncodpers ind_empleado pais_residencia sexo  age  fecha_alta  \\\n",
       "0  2015-01-28   1375586            N              ES    H   35  2015-01-12   \n",
       "1  2015-01-28   1050611            N              ES    V   23  2012-08-10   \n",
       "2  2015-01-28   1050612            N              ES    V   23  2012-08-10   \n",
       "3  2015-01-28   1050613            N              ES    H   22  2012-08-10   \n",
       "4  2015-01-28   1050614            N              ES    V   23  2012-08-10   \n",
       "\n",
       "   ind_nuevo antiguedad  indrel       ...        ind_hip_fin_ult1  \\\n",
       "0        0.0          6     1.0       ...                       0   \n",
       "1        0.0         35     1.0       ...                       0   \n",
       "2        0.0         35     1.0       ...                       0   \n",
       "3        0.0         35     1.0       ...                       0   \n",
       "4        0.0         35     1.0       ...                       0   \n",
       "\n",
       "   ind_plan_fin_ult1 ind_pres_fin_ult1 ind_reca_fin_ult1 ind_tjcr_fin_ult1  \\\n",
       "0                  0                 0                 0                 0   \n",
       "1                  0                 0                 0                 0   \n",
       "2                  0                 0                 0                 0   \n",
       "3                  0                 0                 0                 0   \n",
       "4                  0                 0                 0                 0   \n",
       "\n",
       "   ind_valo_fin_ult1 ind_viv_fin_ult1 ind_nomina_ult1  ind_nom_pens_ult1  \\\n",
       "0                  0                0               0                  0   \n",
       "1                  0                0               0                  0   \n",
       "2                  0                0               0                  0   \n",
       "3                  0                0               0                  0   \n",
       "4                  0                0               0                  0   \n",
       "\n",
       "   ind_recibo_ult1  \n",
       "0                0  \n",
       "1                0  \n",
       "2                0  \n",
       "3                0  \n",
       "4                0  \n",
       "\n",
       "[5 rows x 48 columns]"
      ]
     },
     "execution_count": 3,
     "metadata": {},
     "output_type": "execute_result"
    }
   ],
   "source": [
    "data = pd.read_csv('../input/train_ver2.csv', nrows=1000)\n",
    "data.head()"
   ]
  },
  {
   "cell_type": "markdown",
   "metadata": {
    "nbpresent": {
     "id": "0da98b9c-4c69-4428-b5ef-82612dc8ff80"
    }
   },
   "source": [
    "Укажем типы для некоторых признаков, признаки с датами и возможные пропущенные значения:"
   ]
  },
  {
   "cell_type": "code",
   "execution_count": 4,
   "metadata": {
    "collapsed": false,
    "nbpresent": {
     "id": "e38096ba-013f-4268-829a-ca994c223499"
    }
   },
   "outputs": [],
   "source": [
    "data_types = {\n",
    "    'ncodpers': np.int32, \n",
    "    'indrel_1mes': 'object', \n",
    "    'conyuemp': 'object', \n",
    "    'ind_ahor_fin_ult1': np.int8, \n",
    "    'ind_aval_fin_ult1': np.int8, \n",
    "    'ind_cco_fin_ult1': np.int8, \n",
    "    'ind_cder_fin_ult1': np.int8, \n",
    "    'ind_cno_fin_ult1': np.int8, \n",
    "    'ind_ctju_fin_ult1': np.int8, \n",
    "    'ind_ctma_fin_ult1': np.int8, \n",
    "    'ind_ctop_fin_ult1': np.int8, \n",
    "    'ind_ctpp_fin_ult1': np.int8, \n",
    "    'ind_deco_fin_ult1': np.int8, \n",
    "    'ind_deme_fin_ult1': np.int8, \n",
    "    'ind_dela_fin_ult1': np.int8, \n",
    "    'ind_ecue_fin_ult1': np.int8, \n",
    "    'ind_fond_fin_ult1': np.int8, \n",
    "    'ind_hip_fin_ult1': np.int8, \n",
    "    'ind_plan_fin_ult1': np.int8, \n",
    "    'ind_pres_fin_ult1': np.int8, \n",
    "    'ind_reca_fin_ult1': np.int8, \n",
    "    'ind_tjcr_fin_ult1': np.int8, \n",
    "    'ind_valo_fin_ult1': np.int8, \n",
    "    'ind_viv_fin_ult1': np.int8, \n",
    "    'ind_recibo_ult1': np.int8\n",
    "}\n",
    "\n",
    "dates = ['fecha_dato', 'fecha_alta', 'ult_fec_cli_1t']\n",
    "nas = ['NA', ' NA', '     NA', 'NaN', '         NA']"
   ]
  },
  {
   "cell_type": "markdown",
   "metadata": {
    "nbpresent": {
     "id": "170aac36-a47f-451d-876b-759ee6b9d74f"
    }
   },
   "source": [
    "Теперь можно загружать данные целиком:"
   ]
  },
  {
   "cell_type": "code",
   "execution_count": 5,
   "metadata": {
    "collapsed": false,
    "nbpresent": {
     "id": "baa5891e-813a-4490-90d4-b2d9ab1310ed"
    }
   },
   "outputs": [],
   "source": [
    "data = pd.read_csv('../input/train_ver2.csv', parse_dates=dates, dtype=data_types, na_values=nas)"
   ]
  },
  {
   "cell_type": "markdown",
   "metadata": {
    "nbpresent": {
     "id": "e34332fd-9a78-4222-8997-2b6645450905"
    }
   },
   "source": [
    "Если использовать pandas всё-таки не получается, то можно считывать:\n",
    "- по строкам с помощью csv\n",
    "- по столбцам с помощью pandas, на ходу преобразуя признаки."
   ]
  },
  {
   "cell_type": "markdown",
   "metadata": {
    "nbpresent": {
     "id": "076473a2-1077-490b-9fe2-5a8812299176"
    }
   },
   "source": [
    "Для удобства обозначим \"целевые\" переменные и признаки."
   ]
  },
  {
   "cell_type": "code",
   "execution_count": 6,
   "metadata": {
    "collapsed": false,
    "nbpresent": {
     "id": "a2f32ffa-1e49-408d-9660-df872074ea88"
    }
   },
   "outputs": [],
   "source": [
    "target_cols = [\n",
    "    'ind_ahor_fin_ult1',\n",
    "    'ind_aval_fin_ult1',\n",
    "    'ind_cco_fin_ult1',\n",
    "    'ind_cder_fin_ult1',\n",
    "    'ind_cno_fin_ult1',\n",
    "    'ind_ctju_fin_ult1',\n",
    "    'ind_ctma_fin_ult1',\n",
    "    'ind_ctop_fin_ult1',\n",
    "    'ind_ctpp_fin_ult1',\n",
    "    'ind_deco_fin_ult1',\n",
    "    'ind_deme_fin_ult1',\n",
    "    'ind_dela_fin_ult1',\n",
    "    'ind_ecue_fin_ult1',\n",
    "    'ind_fond_fin_ult1',\n",
    "    'ind_hip_fin_ult1',\n",
    "    'ind_plan_fin_ult1',\n",
    "    'ind_pres_fin_ult1',\n",
    "    'ind_reca_fin_ult1',\n",
    "    'ind_tjcr_fin_ult1',\n",
    "    'ind_valo_fin_ult1',\n",
    "    'ind_viv_fin_ult1',\n",
    "    'ind_nomina_ult1',\n",
    "    'ind_nom_pens_ult1',\n",
    "    'ind_recibo_ult1'\n",
    "]\n",
    "\n",
    "feature_cols = list(set(data.columns) - set(target_cols) - set(['ncodpers']) - set(dates))"
   ]
  },
  {
   "cell_type": "markdown",
   "metadata": {
    "nbpresent": {
     "id": "9c41c995-3afa-4721-834c-e5d6669516de"
    }
   },
   "source": [
    "Пример значений признака:"
   ]
  },
  {
   "cell_type": "code",
   "execution_count": 7,
   "metadata": {
    "collapsed": false,
    "nbpresent": {
     "id": "ee24af78-f4eb-490d-801a-ee20c8a0713c"
    },
    "scrolled": false
   },
   "outputs": [
    {
     "data": {
      "text/plain": [
       "array(['1.0', '1', nan, '3.0', '3', '2', '2.0', '4.0', 'P', '4'], dtype=object)"
      ]
     },
     "execution_count": 7,
     "metadata": {},
     "output_type": "execute_result"
    }
   ],
   "source": [
    "pd.unique(data['indrel_1mes'])"
   ]
  },
  {
   "cell_type": "code",
   "execution_count": 8,
   "metadata": {
    "collapsed": false,
    "nbpresent": {
     "id": "99a96279-b551-4d16-a52c-6a3b8bd9e240"
    },
    "scrolled": true
   },
   "outputs": [],
   "source": [
    "for col in feature_cols:\n",
    "    data[col].fillna(-999, inplace=True)"
   ]
  },
  {
   "cell_type": "code",
   "execution_count": 9,
   "metadata": {
    "collapsed": false,
    "nbpresent": {
     "id": "97c81409-d28e-4148-b2d4-61ef783c4eea"
    }
   },
   "outputs": [],
   "source": [
    "data.indrel_1mes = data.indrel_1mes.apply(lambda x: str(x)[0])"
   ]
  },
  {
   "cell_type": "markdown",
   "metadata": {
    "nbpresent": {
     "id": "27fc9a65-0905-446e-9776-9c2f2bd15659"
    }
   },
   "source": [
    "Пропущенные значения есть даже среди \"целевых\" переменных:"
   ]
  },
  {
   "cell_type": "code",
   "execution_count": 10,
   "metadata": {
    "collapsed": false,
    "nbpresent": {
     "id": "a06ec600-603c-4a57-b0de-d8152590413b"
    }
   },
   "outputs": [
    {
     "data": {
      "text/plain": [
       "ind_ahor_fin_ult1        0\n",
       "ind_aval_fin_ult1        0\n",
       "ind_cco_fin_ult1         0\n",
       "ind_cder_fin_ult1        0\n",
       "ind_cno_fin_ult1         0\n",
       "ind_ctju_fin_ult1        0\n",
       "ind_ctma_fin_ult1        0\n",
       "ind_ctop_fin_ult1        0\n",
       "ind_ctpp_fin_ult1        0\n",
       "ind_deco_fin_ult1        0\n",
       "ind_deme_fin_ult1        0\n",
       "ind_dela_fin_ult1        0\n",
       "ind_ecue_fin_ult1        0\n",
       "ind_fond_fin_ult1        0\n",
       "ind_hip_fin_ult1         0\n",
       "ind_plan_fin_ult1        0\n",
       "ind_pres_fin_ult1        0\n",
       "ind_reca_fin_ult1        0\n",
       "ind_tjcr_fin_ult1        0\n",
       "ind_valo_fin_ult1        0\n",
       "ind_viv_fin_ult1         0\n",
       "ind_nomina_ult1      16063\n",
       "ind_nom_pens_ult1    16063\n",
       "ind_recibo_ult1          0\n",
       "dtype: int64"
      ]
     },
     "execution_count": 10,
     "metadata": {},
     "output_type": "execute_result"
    }
   ],
   "source": [
    "pd.isnull(data[target_cols]).sum(axis=0)"
   ]
  },
  {
   "cell_type": "code",
   "execution_count": 11,
   "metadata": {
    "collapsed": true,
    "nbpresent": {
     "id": "9d489e70-1deb-4292-bba0-0194d65d3e16"
    }
   },
   "outputs": [],
   "source": [
    "for col in target_cols:\n",
    "    data[col].fillna(0, inplace=True)"
   ]
  },
  {
   "cell_type": "markdown",
   "metadata": {
    "nbpresent": {
     "id": "3ebbc010-ad69-4cdd-85dd-f01e27ee2c00"
    }
   },
   "source": [
    "Закодируем числами категориальные переменные:"
   ]
  },
  {
   "cell_type": "code",
   "execution_count": 12,
   "metadata": {
    "collapsed": true,
    "nbpresent": {
     "id": "eed577fb-03a0-4c9d-a6a4-7f9a5d881074"
    }
   },
   "outputs": [],
   "source": [
    "encode_features = [\n",
    "    'conyuemp', \n",
    "    'indfall', \n",
    "    'tipodom', \n",
    "    'indext', \n",
    "    'indresi', \n",
    "    'pais_residencia', \n",
    "    'segmento',\n",
    "    'canal_entrada', \n",
    "    'indrel_1mes', \n",
    "    'sexo', \n",
    "    'ind_empleado', \n",
    "    'nomprov', \n",
    "    'tiprel_1mes'\n",
    "]\n",
    "\n",
    "encoders = {}\n",
    "for col in encode_features:\n",
    "    le = LabelEncoder()\n",
    "    le.fit(data[col])\n",
    "    data[col] = le.fit_transform(data[col])\n",
    "    encoders[col] = le"
   ]
  },
  {
   "cell_type": "markdown",
   "metadata": {
    "collapsed": true,
    "nbpresent": {
     "id": "ac8eee4c-dc69-472f-ab3b-0edc37030833"
    }
   },
   "source": [
    "Сохраним датасет:"
   ]
  },
  {
   "cell_type": "code",
   "execution_count": 13,
   "metadata": {
    "collapsed": false,
    "nbpresent": {
     "id": "8ea8ff7b-73b2-41b7-ab19-1d0b74073381"
    }
   },
   "outputs": [],
   "source": [
    "data.to_csv('../input/train_preprocessed.csv', index=False)"
   ]
  },
  {
   "cell_type": "markdown",
   "metadata": {
    "nbpresent": {
     "id": "2312197c-72ca-4541-9f20-c9ca0cb1c1b4"
    }
   },
   "source": [
    "Аналогичные преобразования нужно произвести с тестовым датасетом (не забываем, что Label Encoder нужно использовать уже обученный)."
   ]
  },
  {
   "cell_type": "code",
   "execution_count": 16,
   "metadata": {
    "collapsed": true,
    "nbpresent": {
     "id": "7996b762-da63-4e76-a582-a8b8fb095717"
    }
   },
   "outputs": [],
   "source": [
    "data = pd.read_csv('../input/test_ver2.csv', parse_dates=dates, dtype=data_types, na_values=nas)"
   ]
  },
  {
   "cell_type": "code",
   "execution_count": 17,
   "metadata": {
    "collapsed": false,
    "nbpresent": {
     "id": "37ec06c2-bccc-4127-bbe0-4305b0e49213"
    }
   },
   "outputs": [],
   "source": [
    "for col in feature_cols:\n",
    "    data[col].fillna(-999, inplace=True)\n",
    "    \n",
    "data.indrel_1mes = data.indrel_1mes.apply(lambda x: str(x)[0])\n",
    "    \n",
    "for col in encode_features:\n",
    "    le = encoders[col]\n",
    "    data[col] = le.transform(data[col])"
   ]
  },
  {
   "cell_type": "code",
   "execution_count": 18,
   "metadata": {
    "collapsed": true,
    "nbpresent": {
     "id": "f0bce7f4-6a8d-46a7-bf57-3788e28f85fb"
    }
   },
   "outputs": [],
   "source": [
    "data.to_csv('../input/test_preprocessed.csv', index=False)"
   ]
  },
  {
   "cell_type": "markdown",
   "metadata": {
    "collapsed": true,
    "nbpresent": {
     "id": "20697311-8a17-4f45-8fb2-77ebc103f060"
    }
   },
   "source": [
    "## Обучение, валидация"
   ]
  },
  {
   "cell_type": "markdown",
   "metadata": {
    "nbpresent": {
     "id": "fcfde519-1698-422a-ba17-067ea762484e"
    }
   },
   "source": [
    "Метрика для оценки результата:"
   ]
  },
  {
   "cell_type": "code",
   "execution_count": 2,
   "metadata": {
    "collapsed": true,
    "nbpresent": {
     "id": "f7550c3b-bd04-40cd-8a61-4cb315188d5e"
    }
   },
   "outputs": [],
   "source": [
    "def apk(actual, predicted, k=10):\n",
    "\n",
    "    if len(predicted)>k:\n",
    "        predicted = predicted[:k]\n",
    "\n",
    "    score = 0.0\n",
    "    num_hits = 0.0\n",
    "\n",
    "    for i,p in enumerate(predicted):\n",
    "        if p in actual and p not in predicted[:i]:\n",
    "            num_hits += 1.0\n",
    "            score += num_hits / (i+1.0)\n",
    "\n",
    "    if not actual:\n",
    "        return 0.0\n",
    "\n",
    "    return score / min(len(actual), k)\n",
    "\n",
    "\n",
    "def mapk(actual, predicted, k=10):\n",
    "    return np.mean([apk(a,p,k) for a,p in zip(actual, predicted)])"
   ]
  },
  {
   "cell_type": "markdown",
   "metadata": {
    "collapsed": true,
    "nbpresent": {
     "id": "c42335af-8318-4e07-be97-16b65da30e04"
    }
   },
   "source": [
    "Теперь можно считывать данные экономичнее:"
   ]
  },
  {
   "cell_type": "code",
   "execution_count": 3,
   "metadata": {
    "collapsed": false,
    "nbpresent": {
     "id": "adcfb898-c971-464d-bf48-7cce76ff3328"
    }
   },
   "outputs": [],
   "source": [
    "data_types = {\n",
    "    'ncodpers': np.int32, \n",
    "    'conyuemp': np.int8,\n",
    "    'indfall': np.int8,\n",
    "    'tipodom': np.int8,\n",
    "    'indext': np.int8,\n",
    "    'indresi': np.int8,\n",
    "    'pais_residencia': np.int8,\n",
    "    'segmento': np.int8,\n",
    "    'canal_entrada': np.int8,\n",
    "    'indrel_1mes': np.int8,\n",
    "    'sexo': np.int8,\n",
    "    'ind_empleado': np.int8,\n",
    "    'nomprov': np.int8,\n",
    "    'tiprel_1mes': np.int8,\n",
    "    'ind_ahor_fin_ult1': np.int8, \n",
    "    'ind_aval_fin_ult1': np.int8, \n",
    "    'ind_cco_fin_ult1': np.int8, \n",
    "    'ind_cder_fin_ult1': np.int8, \n",
    "    'ind_cno_fin_ult1': np.int8, \n",
    "    'ind_ctju_fin_ult1': np.int8, \n",
    "    'ind_ctma_fin_ult1': np.int8, \n",
    "    'ind_ctop_fin_ult1': np.int8, \n",
    "    'ind_ctpp_fin_ult1': np.int8, \n",
    "    'ind_deco_fin_ult1': np.int8, \n",
    "    'ind_deme_fin_ult1': np.int8, \n",
    "    'ind_dela_fin_ult1': np.int8, \n",
    "    'ind_ecue_fin_ult1': np.int8, \n",
    "    'ind_fond_fin_ult1': np.int8, \n",
    "    'ind_hip_fin_ult1': np.int8, \n",
    "    'ind_plan_fin_ult1': np.int8, \n",
    "    'ind_pres_fin_ult1': np.int8, \n",
    "    'ind_reca_fin_ult1': np.int8, \n",
    "    'ind_tjcr_fin_ult1': np.int8, \n",
    "    'ind_valo_fin_ult1': np.int8, \n",
    "    'ind_nomina_ult1': np.int8,\n",
    "    'ind_nom_pens_ult1': np.int8,\n",
    "    'ind_viv_fin_ult1': np.int8, \n",
    "    'ind_recibo_ult1': np.int8\n",
    "}\n",
    "\n",
    "dates = ['fecha_dato', 'fecha_alta', 'ult_fec_cli_1t']"
   ]
  },
  {
   "cell_type": "code",
   "execution_count": 4,
   "metadata": {
    "collapsed": false,
    "nbpresent": {
     "id": "6ac9b447-d11b-4a20-ba96-b478e528bf8f"
    }
   },
   "outputs": [],
   "source": [
    "data = pd.read_csv('../input/train_preprocessed.csv', parse_dates=dates, dtype=data_types)"
   ]
  },
  {
   "cell_type": "code",
   "execution_count": 5,
   "metadata": {
    "collapsed": false,
    "nbpresent": {
     "id": "fb3a1ab9-7fd0-4fd8-a9c5-08c775b9f7dd"
    }
   },
   "outputs": [],
   "source": [
    "# data_test = pd.read_csv('../input/test_preprocessed.csv', parse_dates=dates, dtype=data_types)"
   ]
  },
  {
   "cell_type": "code",
   "execution_count": 6,
   "metadata": {
    "collapsed": true,
    "nbpresent": {
     "id": "946b05da-fd14-48b2-8d21-2d85c9edce7a"
    }
   },
   "outputs": [],
   "source": [
    "target_cols = [\n",
    "    'ind_ahor_fin_ult1',\n",
    "    'ind_aval_fin_ult1',\n",
    "    'ind_cco_fin_ult1',\n",
    "    'ind_cder_fin_ult1',\n",
    "    'ind_cno_fin_ult1',\n",
    "    'ind_ctju_fin_ult1',\n",
    "    'ind_ctma_fin_ult1',\n",
    "    'ind_ctop_fin_ult1',\n",
    "    'ind_ctpp_fin_ult1',\n",
    "    'ind_deco_fin_ult1',\n",
    "    'ind_deme_fin_ult1',\n",
    "    'ind_dela_fin_ult1',\n",
    "    'ind_ecue_fin_ult1',\n",
    "    'ind_fond_fin_ult1',\n",
    "    'ind_hip_fin_ult1',\n",
    "    'ind_plan_fin_ult1',\n",
    "    'ind_pres_fin_ult1',\n",
    "    'ind_reca_fin_ult1',\n",
    "    'ind_tjcr_fin_ult1',\n",
    "    'ind_valo_fin_ult1',\n",
    "    'ind_viv_fin_ult1',\n",
    "    'ind_nomina_ult1',\n",
    "    'ind_nom_pens_ult1',\n",
    "    'ind_recibo_ult1'\n",
    "]\n",
    "\n",
    "\n",
    "feature_cols = list(set(data.columns) - set(target_cols) - set(['ncodpers']) - set(dates))"
   ]
  },
  {
   "cell_type": "markdown",
   "metadata": {
    "collapsed": true,
    "nbpresent": {
     "id": "c08c2180-ad58-44c8-a77a-ce2a2de7b19f"
    }
   },
   "source": [
    "Разделим на обучение/валидацию по времени, заодно обозначим предпоследний месяц для фильтрации предсказанных услуг."
   ]
  },
  {
   "cell_type": "code",
   "execution_count": 7,
   "metadata": {
    "collapsed": false,
    "nbpresent": {
     "id": "54a5bd50-19d1-4411-9125-865440ebc88e"
    }
   },
   "outputs": [],
   "source": [
    "# valid\n",
    "train_index = np.array((data.fecha_dato == datetime.datetime(2016, 4, 28)) | \\\n",
    "                (data.fecha_dato == datetime.datetime(2015, 4, 28)) | \\\n",
    "                (data.fecha_dato == datetime.datetime(2015, 5, 28)))\n",
    "valid_index = np.array(data.fecha_dato == datetime.datetime(2016, 5, 28))\n",
    "\n",
    "last_month_index = np.array(data.fecha_dato == datetime.datetime(2016, 4, 28))"
   ]
  },
  {
   "cell_type": "code",
   "execution_count": 8,
   "metadata": {
    "collapsed": false,
    "nbpresent": {
     "id": "e8079140-ea6f-4ffd-ac65-6f5d4357f639"
    }
   },
   "outputs": [],
   "source": [
    "# # test\n",
    "# train_index = np.array((data.fecha_dato == datetime.datetime(2016, 4, 28)) | \\\n",
    "#                 (data.fecha_dato == datetime.datetime(2015, 4, 28)) | \\\n",
    "#                 (data.fecha_dato == datetime.datetime(2015, 6, 28)) | \\\n",
    "#                 (data.fecha_dato == datetime.datetime(2015, 5, 28)) | \\\n",
    "#                 (data.fecha_dato == datetime.datetime(2016, 5, 28)))\n",
    "\n",
    "# last_month_index = np.array(data.fecha_dato == datetime.datetime(2016, 5, 28))"
   ]
  },
  {
   "cell_type": "markdown",
   "metadata": {
    "nbpresent": {
     "id": "1134d818-73ba-40e2-9263-13bdd31b9e84"
    }
   },
   "source": [
    "Другой вариант кросс-валидации:\n",
    "- Обучаемся на первых 4 месяцах, оцениваем результат по 5 месяцу.\n",
    "- Обучаемся на первых 5 месяцах, оцениваем результат по 6 месяцу.\n",
    "- Обучаемся на первых 6 месяцах, оцениваем результат по 7 месяцу.\n",
    "- ...\n",
    "- Усредняем полученные оценки качества."
   ]
  },
  {
   "cell_type": "markdown",
   "metadata": {
    "nbpresent": {
     "id": "76f1229f-4579-4b99-91d2-dd3a4c2cb074"
    }
   },
   "source": [
    "Выделим заранее необходимые для обучения/предсказания/оценки данные, чтобы отказаться от data."
   ]
  },
  {
   "cell_type": "code",
   "execution_count": 9,
   "metadata": {
    "collapsed": false,
    "nbpresent": {
     "id": "67fd38ab-dc08-4186-8531-9667a174a0e6"
    }
   },
   "outputs": [],
   "source": [
    "# valid\n",
    "ncodpers = np.array(data.ix[valid_index, 'ncodpers'])\n",
    "last_month_target = np.array(data.ix[last_month_index, ['ncodpers'] + list(target_cols)])"
   ]
  },
  {
   "cell_type": "code",
   "execution_count": 10,
   "metadata": {
    "collapsed": false,
    "nbpresent": {
     "id": "23d2b2a8-3d59-475f-bcc2-162a36abd8ae"
    }
   },
   "outputs": [],
   "source": [
    "# # test\n",
    "# ncodpers = np.array(data_test['ncodpers'])\n",
    "# last_month_target = np.array(data.ix[last_month_index, ['ncodpers'] + list(target_cols)])"
   ]
  },
  {
   "cell_type": "markdown",
   "metadata": {
    "nbpresent": {
     "id": "b576bd69-7b86-4e2c-a2ec-713107aa5780"
    }
   },
   "source": [
    "Откажемся от pandas:"
   ]
  },
  {
   "cell_type": "code",
   "execution_count": 14,
   "metadata": {
    "collapsed": false,
    "nbpresent": {
     "id": "d2192dac-f0ea-4900-9b41-48c4f4ef539b"
    }
   },
   "outputs": [],
   "source": [
    "# valid\n",
    "X_train = np.array(data.ix[train_index, feature_cols])\n",
    "X_valid = np.array(data.ix[valid_index, feature_cols])\n",
    "y_train = np.array(data.ix[train_index, target_cols])\n",
    "y_valid = np.array(data.ix[valid_index, target_cols])"
   ]
  },
  {
   "cell_type": "code",
   "execution_count": 15,
   "metadata": {
    "collapsed": false,
    "nbpresent": {
     "id": "4df7fe0d-25b8-41aa-8c80-14a5153976d4"
    }
   },
   "outputs": [],
   "source": [
    "# # test\n",
    "# X_train = np.array(data.ix[train_index, feature_cols])\n",
    "# y_train = np.array(data.ix[train_index, target_cols])\n",
    "\n",
    "# X_test = np.array(data_test[feature_cols])"
   ]
  },
  {
   "cell_type": "markdown",
   "metadata": {
    "nbpresent": {
     "id": "4d25294c-7291-4fc3-9697-aab6491fea15"
    }
   },
   "source": [
    "Сохраним данные после разделения."
   ]
  },
  {
   "cell_type": "code",
   "execution_count": 16,
   "metadata": {
    "collapsed": false,
    "nbpresent": {
     "id": "f63e813a-2ec9-4d7a-898f-a0034327c3db"
    }
   },
   "outputs": [],
   "source": [
    "# valid\n",
    "np.save('../input/X_train.npy', X_train)\n",
    "np.save('../input/X_valid.npy', X_valid)\n",
    "np.save('../input/y_train.npy', y_train)\n",
    "np.save('../input/y_valid.npy', y_valid)\n",
    "\n",
    "np.save('../input/ncodpers.npy', ncodpers)\n",
    "np.save('../input/last_month_target.npy', last_month_target)"
   ]
  },
  {
   "cell_type": "code",
   "execution_count": 12,
   "metadata": {
    "collapsed": false,
    "nbpresent": {
     "id": "de567818-e1c6-4d7f-84be-90d431838e09"
    }
   },
   "outputs": [],
   "source": [
    "# # test\n",
    "# np.save('../input/X_train.npy', X_train)\n",
    "# np.save('../input/y_train.npy', y_train)\n",
    "\n",
    "# np.save('../input/X_test.npy', X_test)\n",
    "\n",
    "# np.save('../input/ncodpers.npy', ncodpers)\n",
    "# np.save('../input/last_month_target.npy', last_month_target)"
   ]
  },
  {
   "cell_type": "markdown",
   "metadata": {
    "nbpresent": {
     "id": "5f195212-a8d1-4bdf-a6aa-69fc8d72be9b"
    }
   },
   "source": [
    "Теперь можно начинать с нуля."
   ]
  },
  {
   "cell_type": "code",
   "execution_count": 3,
   "metadata": {
    "collapsed": false,
    "nbpresent": {
     "id": "a2aff8af-c038-4aa4-a0fa-3b08eb7fbe10"
    }
   },
   "outputs": [],
   "source": [
    "# valid\n",
    "X_train = np.load('../input/X_train.npy')\n",
    "X_valid = np.load('../input/X_valid.npy')\n",
    "y_train = np.load('../input/y_train.npy')\n",
    "y_valid = np.load('../input/y_valid.npy')\n",
    "\n",
    "ncodpers = np.load('../input/ncodpers.npy')\n",
    "last_month_target = np.load('../input/last_month_target.npy')"
   ]
  },
  {
   "cell_type": "markdown",
   "metadata": {
    "nbpresent": {
     "id": "2e426271-7e7d-4194-b9d7-6b8284b2f11a"
    }
   },
   "source": [
    "Обучим модель и оценим результат:"
   ]
  },
  {
   "cell_type": "code",
   "execution_count": 17,
   "metadata": {
    "collapsed": false,
    "nbpresent": {
     "id": "165ea6e4-72e1-410a-b332-8558c904da31"
    }
   },
   "outputs": [],
   "source": [
    "clf = RandomForestClassifier(n_estimators=50, max_depth=20, criterion='entropy', n_jobs=-1, random_state=5)\n",
    "clf.fit(X_train, y_train)\n",
    "y_pred = np.array(clf.predict_proba(X_valid))[:, :, 1].T"
   ]
  },
  {
   "cell_type": "markdown",
   "metadata": {
    "nbpresent": {
     "id": "9d64c842-1c83-4c89-a4b8-70c359b8c993"
    }
   },
   "source": [
    "Для каждого клиента запомним услуги, использованные в предпоследнем месяце (их не нужно рекомендовать)."
   ]
  },
  {
   "cell_type": "code",
   "execution_count": 18,
   "metadata": {
    "collapsed": false,
    "nbpresent": {
     "id": "639d8cf6-62ab-49d3-b2eb-6573f0963339"
    }
   },
   "outputs": [],
   "source": [
    "last_products = {}\n",
    "for i in range(last_month_target.shape[0]):\n",
    "    row = last_month_target[i]\n",
    "    cust_id = row[0]\n",
    "    used_products = set(np.where(row[1:] == 1)[0])\n",
    "    last_products[cust_id] = used_products"
   ]
  },
  {
   "cell_type": "markdown",
   "metadata": {
    "nbpresent": {
     "id": "93ae2a93-24b0-4efc-a32d-7cae4e868c6f"
    }
   },
   "source": [
    "Построим рекомендации для последнего месяца и истинные ответы."
   ]
  },
  {
   "cell_type": "code",
   "execution_count": 19,
   "metadata": {
    "collapsed": false,
    "nbpresent": {
     "id": "e5a7e315-df4f-4d8f-abd6-74d032ea3088"
    }
   },
   "outputs": [],
   "source": [
    "y_pred = np.argsort(y_pred, axis=1)\n",
    "y_pred = np.fliplr(y_pred)\n",
    "\n",
    "preds = []\n",
    "trues = []\n",
    "for i in range(y_pred.shape[0]):\n",
    "    cust_id = ncodpers[i]\n",
    "    used_products = last_products.get(cust_id, {})\n",
    "    \n",
    "    pred_top_products = []\n",
    "    for product_id in y_pred[i]:\n",
    "        if product_id not in used_products:\n",
    "            pred_top_products.append(product_id)\n",
    "        if len(pred_top_products) == 7:\n",
    "            break\n",
    "    \n",
    "    products = np.arange(0, len(y_valid[i]))[y_valid[i].astype(bool)]\n",
    "    true_top_products = []\n",
    "    for product_id in products:\n",
    "        if product_id not in used_products:\n",
    "            true_top_products.append(product_id)\n",
    "    \n",
    "    preds.append(pred_top_products)\n",
    "    trues.append(true_top_products)"
   ]
  },
  {
   "cell_type": "markdown",
   "metadata": {
    "nbpresent": {
     "id": "a2156749-d186-4770-bbc3-abeacca03719"
    }
   },
   "source": [
    "Оценим качество:"
   ]
  },
  {
   "cell_type": "code",
   "execution_count": 20,
   "metadata": {
    "collapsed": false,
    "nbpresent": {
     "id": "32228fac-f04d-450a-87ae-faac89d9dcdb"
    }
   },
   "outputs": [
    {
     "data": {
      "text/plain": [
       "0.020181858343899257"
      ]
     },
     "execution_count": 20,
     "metadata": {},
     "output_type": "execute_result"
    }
   ],
   "source": [
    "mapk(trues, preds, k=7)"
   ]
  },
  {
   "cell_type": "markdown",
   "metadata": {
    "nbpresent": {
     "id": "11867c43-3f95-426d-9201-d7cd7cfb7417"
    }
   },
   "source": [
    "Это много или мало? На самом деле совсем мало новых услуг можно предложить людям в новом месяце. [Если](https://www.kaggle.com/sudalairajkumar/santander-product-recommendation/maximum-possible-score/discussion) сделать идеальное предсказание для мая 2016, то можно получить 0.0319. Поэтому результат так далёк от 1.0."
   ]
  },
  {
   "cell_type": "markdown",
   "metadata": {
    "nbpresent": {
     "id": "0c2a805e-257f-4787-b4e9-55c10e692ad2"
    }
   },
   "source": [
    "Теперь можно повторить то же самое с разделением на обучающую/тестовую выборку и сделать сабмит."
   ]
  },
  {
   "cell_type": "markdown",
   "metadata": {
    "nbpresent": {
     "id": "d8a65ef7-973d-4de8-bbae-9f4c264b7c95"
    }
   },
   "source": [
    "## Подготовка сабмита"
   ]
  },
  {
   "cell_type": "code",
   "execution_count": 2,
   "metadata": {
    "collapsed": false,
    "nbpresent": {
     "id": "618ed5c5-2ef7-4a1b-9fea-ae5a0ae158b3"
    }
   },
   "outputs": [],
   "source": [
    "# test\n",
    "X_train = np.load('../input/X_train.npy')\n",
    "y_train = np.load('../input/y_train.npy')\n",
    "\n",
    "X_test = np.load('../input/X_test.npy')\n",
    "\n",
    "ncodpers = np.load('../input/ncodpers.npy')\n",
    "last_month_target = np.load('../input/last_month_target.npy')"
   ]
  },
  {
   "cell_type": "code",
   "execution_count": 3,
   "metadata": {
    "collapsed": false,
    "nbpresent": {
     "id": "caac78d6-a1c5-4944-92ce-0452050967ea"
    }
   },
   "outputs": [
    {
     "data": {
      "text/plain": [
       "RandomForestClassifier(bootstrap=True, class_weight=None, criterion='entropy',\n",
       "            max_depth=20, max_features='auto', max_leaf_nodes=None,\n",
       "            min_impurity_split=1e-07, min_samples_leaf=1,\n",
       "            min_samples_split=2, min_weight_fraction_leaf=0.0,\n",
       "            n_estimators=10, n_jobs=-1, oob_score=False, random_state=5,\n",
       "            verbose=0, warm_start=False)"
      ]
     },
     "execution_count": 3,
     "metadata": {},
     "output_type": "execute_result"
    }
   ],
   "source": [
    "clf = RandomForestClassifier(n_estimators=50, max_depth=20, criterion='entropy', n_jobs=-1, random_state=5)\n",
    "clf.fit(X_train, y_train)"
   ]
  },
  {
   "cell_type": "code",
   "execution_count": 8,
   "metadata": {
    "collapsed": true,
    "nbpresent": {
     "id": "c766597c-3203-46c6-8540-fd4d5394950a"
    }
   },
   "outputs": [],
   "source": [
    "y_pred = np.array(clf.predict_proba(X_test))[:, :, 1].T"
   ]
  },
  {
   "cell_type": "markdown",
   "metadata": {
    "nbpresent": {
     "id": "0925ce66-2979-4b39-9058-ef59b3271412"
    }
   },
   "source": [
    "Теперь уже запомним услуги последнего месяца обучающей выборки:"
   ]
  },
  {
   "cell_type": "code",
   "execution_count": 5,
   "metadata": {
    "collapsed": false,
    "nbpresent": {
     "id": "ee52cf40-9995-4763-8ba5-2dc79fa764fc"
    }
   },
   "outputs": [],
   "source": [
    "last_products = {}\n",
    "for i in range(last_month_target.shape[0]):\n",
    "    row = last_month_target[i]\n",
    "    cust_id = row[0]\n",
    "    used_products = set(np.where(row[1:] == 1)[0])\n",
    "    last_products[cust_id] = used_products"
   ]
  },
  {
   "cell_type": "markdown",
   "metadata": {
    "nbpresent": {
     "id": "ea73ebf6-9af4-48ba-9807-95a6cc4f2b9b"
    }
   },
   "source": [
    "Снова используем названия услуг:"
   ]
  },
  {
   "cell_type": "code",
   "execution_count": 6,
   "metadata": {
    "collapsed": true,
    "nbpresent": {
     "id": "315fb3a9-4953-43b2-9fa0-adf79856eaa1"
    }
   },
   "outputs": [],
   "source": [
    "target_cols = np.array([\n",
    "    'ind_ahor_fin_ult1',\n",
    "    'ind_aval_fin_ult1',\n",
    "    'ind_cco_fin_ult1',\n",
    "    'ind_cder_fin_ult1',\n",
    "    'ind_cno_fin_ult1',\n",
    "    'ind_ctju_fin_ult1',\n",
    "    'ind_ctma_fin_ult1',\n",
    "    'ind_ctop_fin_ult1',\n",
    "    'ind_ctpp_fin_ult1',\n",
    "    'ind_deco_fin_ult1',\n",
    "    'ind_deme_fin_ult1',\n",
    "    'ind_dela_fin_ult1',\n",
    "    'ind_ecue_fin_ult1',\n",
    "    'ind_fond_fin_ult1',\n",
    "    'ind_hip_fin_ult1',\n",
    "    'ind_plan_fin_ult1',\n",
    "    'ind_pres_fin_ult1',\n",
    "    'ind_reca_fin_ult1',\n",
    "    'ind_tjcr_fin_ult1',\n",
    "    'ind_valo_fin_ult1',\n",
    "    'ind_viv_fin_ult1',\n",
    "    'ind_nomina_ult1',\n",
    "    'ind_nom_pens_ult1',\n",
    "    'ind_recibo_ult1'\n",
    "])"
   ]
  },
  {
   "cell_type": "markdown",
   "metadata": {
    "nbpresent": {
     "id": "8b929eb1-e0bd-4b7a-b3e6-d10ef1391da7"
    }
   },
   "source": [
    "Подготовим рекомендации (теперь надо не массив индексов, а конкретные названия услуг)."
   ]
  },
  {
   "cell_type": "code",
   "execution_count": 9,
   "metadata": {
    "collapsed": false,
    "nbpresent": {
     "id": "30a02334-a6db-49b7-9b23-04938b7f7f10"
    }
   },
   "outputs": [],
   "source": [
    "y_pred = np.argsort(y_pred, axis=1)\n",
    "y_pred = np.fliplr(y_pred)\n",
    "\n",
    "preds = []\n",
    "for i in range(y_pred.shape[0]):\n",
    "    cust_id = ncodpers[i]\n",
    "    used_products = last_products.get(cust_id, {})\n",
    "    \n",
    "    pred_top_products = []\n",
    "    for product_id in y_pred[i]:\n",
    "        if product_id not in used_products:\n",
    "            pred_top_products.append(product_id)\n",
    "        if len(pred_top_products) == 7:\n",
    "            break \n",
    "   \n",
    "    preds.append(np.array(pred_top_products))\n",
    "    \n",
    "final_preds = [' '.join(list(target_cols[pred])) for pred in preds]\n",
    "out = pd.DataFrame({'ncodpers': ncodpers, 'added_products': final_preds})\n",
    "out.to_csv('../output/submission.csv', index=False)"
   ]
  },
  {
   "cell_type": "markdown",
   "metadata": {
    "nbpresent": {
     "id": "5f68f114-0fe7-4865-9183-ffc6c98eac10"
    }
   },
   "source": [
    "## Ссылки:"
   ]
  },
  {
   "cell_type": "markdown",
   "metadata": {
    "nbpresent": {
     "id": "3b486b84-562d-4196-ac33-c06b0e7abb40"
    }
   },
   "source": [
    "Можно посмотреть:\n",
    "\n",
    "- [Визуализация 1](https://www.kaggle.com/apryor6/santander-product-recommendation/detailed-cleaning-visualization-python/comments)\n",
    "- [Визуализация 2](https://www.kaggle.com/yifanxie/santander-product-recommendation/santander-products-visualisation)\n",
    "- [Уменьшение датасета](https://www.kaggle.com/jturkewitz/santander-product-recommendation/reduce-size-of-dataset-to-1-gb/comments)\n",
    "- [Скрипт 1](https://www.kaggle.com/tanlikesmath/santander-product-recommendation/when-less-is-more-1/code)\n",
    "- [Скрипт 2](https://www.kaggle.com/sudalairajkumar/santander-product-recommendation/rf-multilabel-framework-lb-0-022475/code)\n",
    "\n",
    "- [Простой гайд по AWS](https://github.com/emilkayumov/aws-jupyter)\n",
    "- [Expedia Hotel Recommendations](https://www.kaggle.com/c/expedia-hotel-recommendations) (стоит и другие конкурсы поискать).\n",
    "\n",
    "и прочее на форуме и в скриптах."
   ]
  },
  {
   "cell_type": "markdown",
   "metadata": {
    "nbpresent": {
     "id": "9d2a21d5-d929-4833-b657-7262a73a2bd5"
    }
   },
   "source": [
    "Не будем забывать о прошлом конкурсе [Santander](https://www.kaggle.com/c/santander-customer-satisfaction/leaderboard/private) (изменение позиций в лидерборде)."
   ]
  },
  {
   "cell_type": "code",
   "execution_count": null,
   "metadata": {
    "collapsed": true,
    "nbpresent": {
     "id": "2d971b0d-c551-491f-9a86-b6442adaabe8"
    }
   },
   "outputs": [],
   "source": []
  }
 ],
 "metadata": {
  "anaconda-cloud": {},
  "kernelspec": {
   "display_name": "Python 2",
   "language": "python",
   "name": "python2"
  },
  "language_info": {
   "codemirror_mode": {
    "name": "ipython",
    "version": 2
   },
   "file_extension": ".py",
   "mimetype": "text/x-python",
   "name": "python",
   "nbconvert_exporter": "python",
   "pygments_lexer": "ipython2",
   "version": "2.7.10"
  },
  "nbpresent": {
   "slides": {
    "02cb12e0-7619-4700-b09c-6065be914a95": {
     "id": "02cb12e0-7619-4700-b09c-6065be914a95",
     "prev": "b8a4a15e-f343-46eb-984a-98e99a1e6fe1",
     "regions": {
      "199e0c96-165e-4c36-b742-d1620d666793": {
       "attrs": {
        "height": 0.8,
        "width": 0.8,
        "x": 0.1,
        "y": 0.1
       },
       "content": {
        "cell": "5f195212-a8d1-4bdf-a6aa-69fc8d72be9b",
        "part": "whole"
       },
       "id": "199e0c96-165e-4c36-b742-d1620d666793"
      }
     }
    },
    "06aa6c22-bf66-4c04-b6ff-d67b3173febd": {
     "id": "06aa6c22-bf66-4c04-b6ff-d67b3173febd",
     "prev": "23af9d2a-bc4a-4bf0-b022-644a479bfb00",
     "regions": {
      "0638ec59-883c-4f75-8ce0-dba8d1e818a2": {
       "attrs": {
        "height": 0.8,
        "width": 0.8,
        "x": 0.1,
        "y": 0.1
       },
       "content": {
        "cell": "a2f32ffa-1e49-408d-9660-df872074ea88",
        "part": "whole"
       },
       "id": "0638ec59-883c-4f75-8ce0-dba8d1e818a2"
      }
     }
    },
    "0e6b0cd4-5ce5-4122-befb-e52fb04da7ae": {
     "id": "0e6b0cd4-5ce5-4122-befb-e52fb04da7ae",
     "prev": "ffd5e044-afe0-4617-8d87-c4c5e29ed70e",
     "regions": {
      "d3fa48f0-080a-4aaa-bf6f-cc0f6396a683": {
       "attrs": {
        "height": 0.8,
        "width": 0.8,
        "x": 0.1,
        "y": 0.1
       },
       "content": {
        "cell": "3ebbc010-ad69-4cdd-85dd-f01e27ee2c00",
        "part": "whole"
       },
       "id": "d3fa48f0-080a-4aaa-bf6f-cc0f6396a683"
      }
     }
    },
    "10a5d0d5-cb6f-40b7-9ce0-03dc50603c48": {
     "id": "10a5d0d5-cb6f-40b7-9ce0-03dc50603c48",
     "prev": "95759535-bdd4-4a59-a751-c1d6da839d62",
     "regions": {
      "8989a558-1ade-4a23-b6d3-d486193ce0d3": {
       "attrs": {
        "height": 0.8,
        "width": 0.8,
        "x": 0.1,
        "y": 0.1
       },
       "content": {
        "cell": "3b486b84-562d-4196-ac33-c06b0e7abb40",
        "part": "whole"
       },
       "id": "8989a558-1ade-4a23-b6d3-d486193ce0d3"
      }
     }
    },
    "12ffb15f-b94c-4e0c-8fbc-3e903b53b88c": {
     "id": "12ffb15f-b94c-4e0c-8fbc-3e903b53b88c",
     "prev": "fe1e2cb2-dc6a-4c03-a56a-6093e848d106",
     "regions": {
      "f0eb308f-89eb-48d3-8e14-d7093f698865": {
       "attrs": {
        "height": 0.8,
        "width": 0.8,
        "x": 0.1,
        "y": 0.1
       },
       "content": {
        "cell": "67fd38ab-dc08-4186-8531-9667a174a0e6",
        "part": "whole"
       },
       "id": "f0eb308f-89eb-48d3-8e14-d7093f698865"
      }
     }
    },
    "1e5b059c-3d66-4773-ab81-2e6f43d2165d": {
     "id": "1e5b059c-3d66-4773-ab81-2e6f43d2165d",
     "prev": "93929abe-ad56-4c3f-9dc1-c5ab3763219a",
     "regions": {
      "8ece2cbc-0a2d-497b-ad0b-cfd3053d58e2": {
       "attrs": {
        "height": 0.8,
        "width": 0.8,
        "x": 0.1,
        "y": 0.1
       },
       "content": {
        "cell": "32228fac-f04d-450a-87ae-faac89d9dcdb",
        "part": "whole"
       },
       "id": "8ece2cbc-0a2d-497b-ad0b-cfd3053d58e2"
      }
     }
    },
    "20e9caf7-a92e-4aa1-a944-dd40edc506b1": {
     "id": "20e9caf7-a92e-4aa1-a944-dd40edc506b1",
     "prev": "d76d1926-4576-4107-9bb2-a381780b2d32",
     "regions": {
      "db2c2811-6a43-4913-ac4c-007589ea7e9e": {
       "attrs": {
        "height": 0.8,
        "width": 0.8,
        "x": 0.1,
        "y": 0.1
       },
       "content": {
        "cell": "adcfb898-c971-464d-bf48-7cce76ff3328",
        "part": "whole"
       },
       "id": "db2c2811-6a43-4913-ac4c-007589ea7e9e"
      }
     }
    },
    "2180d8a5-4e5e-401a-9b9c-35ab24d781f9": {
     "id": "2180d8a5-4e5e-401a-9b9c-35ab24d781f9",
     "prev": "321f46a9-1fb5-4d0a-80fe-fa5ba3766ff1",
     "regions": {
      "1535f50c-aa7b-4b83-9104-baabb5f88b68": {
       "attrs": {
        "height": 0.8,
        "width": 0.8,
        "x": 0.1,
        "y": 0.1
       },
       "content": {
        "cell": "8ea8ff7b-73b2-41b7-ab19-1d0b74073381",
        "part": "whole"
       },
       "id": "1535f50c-aa7b-4b83-9104-baabb5f88b68"
      }
     }
    },
    "23af9d2a-bc4a-4bf0-b022-644a479bfb00": {
     "id": "23af9d2a-bc4a-4bf0-b022-644a479bfb00",
     "prev": "c8fe2f53-9499-4b1b-bd73-c7dee76e0b38",
     "regions": {
      "6802397d-0ea1-4123-be44-e86876e345a0": {
       "attrs": {
        "height": 0.8,
        "width": 0.8,
        "x": 0.1,
        "y": 0.1
       },
       "content": {
        "cell": "076473a2-1077-490b-9fe2-5a8812299176",
        "part": "whole"
       },
       "id": "6802397d-0ea1-4123-be44-e86876e345a0"
      }
     }
    },
    "23b36c07-60e3-4f90-92ac-0e99be8b9cb9": {
     "id": "23b36c07-60e3-4f90-92ac-0e99be8b9cb9",
     "prev": "572d49fa-e9f3-4bc2-9d89-951b95871ec7",
     "regions": {
      "0b84e08b-33e4-408f-ba79-818cc7bd3ade": {
       "attrs": {
        "height": 0.8,
        "width": 0.8,
        "x": 0.1,
        "y": 0.1
       },
       "content": {
        "cell": "4df7fe0d-25b8-41aa-8c80-14a5153976d4",
        "part": "whole"
       },
       "id": "0b84e08b-33e4-408f-ba79-818cc7bd3ade"
      }
     }
    },
    "2792bbd7-b3b2-444a-bbcc-c2f3ed07f01d": {
     "id": "2792bbd7-b3b2-444a-bbcc-c2f3ed07f01d",
     "prev": "8a8a13bc-163f-4948-860d-49ddf4714a72",
     "regions": {
      "8e16dfa1-d7e4-4936-bae5-c4bdbf1cb5c9": {
       "attrs": {
        "height": 0.8,
        "width": 0.8,
        "x": 0.1,
        "y": 0.1
       },
       "content": {
        "cell": "c766597c-3203-46c6-8540-fd4d5394950a",
        "part": "whole"
       },
       "id": "8e16dfa1-d7e4-4936-bae5-c4bdbf1cb5c9"
      }
     }
    },
    "2ae73fcc-f40b-4186-807f-001ee613811f": {
     "id": "2ae73fcc-f40b-4186-807f-001ee613811f",
     "prev": "12ffb15f-b94c-4e0c-8fbc-3e903b53b88c",
     "regions": {
      "511dd713-8cf6-4e91-8729-4a0cf9d9ade2": {
       "attrs": {
        "height": 0.8,
        "width": 0.8,
        "x": 0.1,
        "y": 0.1
       },
       "content": {
        "cell": "23d2b2a8-3d59-475f-bcc2-162a36abd8ae",
        "part": "whole"
       },
       "id": "511dd713-8cf6-4e91-8729-4a0cf9d9ade2"
      }
     }
    },
    "321f46a9-1fb5-4d0a-80fe-fa5ba3766ff1": {
     "id": "321f46a9-1fb5-4d0a-80fe-fa5ba3766ff1",
     "prev": "a4ea7b5b-6346-4c2b-b7da-b4a14870c24a",
     "regions": {
      "f6bb1c97-7cc4-48b1-90b7-47d7b4e0ccdb": {
       "attrs": {
        "height": 0.8,
        "width": 0.8,
        "x": 0.1,
        "y": 0.1
       },
       "content": {
        "cell": "ac8eee4c-dc69-472f-ab3b-0edc37030833",
        "part": "whole"
       },
       "id": "f6bb1c97-7cc4-48b1-90b7-47d7b4e0ccdb"
      }
     }
    },
    "361feedd-5148-49b3-8ef8-2eb4ed7b8767": {
     "id": "361feedd-5148-49b3-8ef8-2eb4ed7b8767",
     "prev": "585f8841-9391-40f3-94b8-db690c65cf3d",
     "regions": {
      "47482a10-a35e-414d-b150-1fdf77c8603f": {
       "attrs": {
        "height": 0.8,
        "width": 0.8,
        "x": 0.1,
        "y": 0.1
       },
       "content": {
        "cell": "ea73ebf6-9af4-48ba-9807-95a6cc4f2b9b",
        "part": "whole"
       },
       "id": "47482a10-a35e-414d-b150-1fdf77c8603f"
      }
     }
    },
    "3de1e291-982b-4c12-9697-1a1a18db9935": {
     "id": "3de1e291-982b-4c12-9697-1a1a18db9935",
     "prev": "98e5ac18-7c5a-4a64-89cf-9d03bbb38f3d",
     "regions": {
      "8039b869-3ab4-4750-a65c-4aea1bf611be": {
       "attrs": {
        "height": 0.8,
        "width": 0.8,
        "x": 0.1,
        "y": 0.1
       },
       "content": {
        "cell": "f63e813a-2ec9-4d7a-898f-a0034327c3db",
        "part": "whole"
       },
       "id": "8039b869-3ab4-4750-a65c-4aea1bf611be"
      }
     }
    },
    "407956d1-3312-4f25-b66e-2c69be33e6ab": {
     "id": "407956d1-3312-4f25-b66e-2c69be33e6ab",
     "prev": "98452f06-9b7b-425b-b63a-1a25b915218f",
     "regions": {
      "90d40248-49dd-4d03-a15f-e895f1462981": {
       "attrs": {
        "height": 0.8,
        "width": 0.8,
        "x": 0.1,
        "y": 0.1
       },
       "content": {
        "cell": "f0bce7f4-6a8d-46a7-bf57-3788e28f85fb",
        "part": "whole"
       },
       "id": "90d40248-49dd-4d03-a15f-e895f1462981"
      }
     }
    },
    "44478b13-e391-41ac-911d-ba5b66e03cd4": {
     "id": "44478b13-e391-41ac-911d-ba5b66e03cd4",
     "prev": "aa965654-895c-44f6-80f6-840e1da71cb9",
     "regions": {
      "e69bf5b2-3a97-4677-bacd-91831e263aa8": {
       "attrs": {
        "height": 0.8,
        "width": 0.8,
        "x": 0.1,
        "y": 0.1
       },
       "content": {
        "cell": "99a96279-b551-4d16-a52c-6a3b8bd9e240",
        "part": "whole"
       },
       "id": "e69bf5b2-3a97-4677-bacd-91831e263aa8"
      }
     }
    },
    "46598542-dc74-46fc-99c3-959aa213305f": {
     "id": "46598542-dc74-46fc-99c3-959aa213305f",
     "prev": "841f5f94-2809-4ef6-83bc-1813ff54291c",
     "regions": {
      "37affbfd-e754-4404-9184-c80e1919d324": {
       "attrs": {
        "height": 0.8,
        "width": 0.8,
        "x": 0.1,
        "y": 0.1
       },
       "content": {
        "cell": "8b929eb1-e0bd-4b7a-b3e6-d10ef1391da7",
        "part": "whole"
       },
       "id": "37affbfd-e754-4404-9184-c80e1919d324"
      }
     }
    },
    "46a2336d-5c41-48d7-9692-660743356580": {
     "id": "46a2336d-5c41-48d7-9692-660743356580",
     "prev": "5999389b-6cb6-4f90-8e68-e437865bf433",
     "regions": {
      "b0884221-977b-4209-b9ce-7ca373b8fa73": {
       "attrs": {
        "height": 0.8,
        "width": 0.8,
        "x": 0.1,
        "y": 0.1
       },
       "content": {
        "cell": "a13df020-be08-4b74-851d-e8a8c7d5ee56",
        "part": "whole"
       },
       "id": "b0884221-977b-4209-b9ce-7ca373b8fa73"
      }
     }
    },
    "4957bce2-e159-43f8-8710-a903f3bf299a": {
     "id": "4957bce2-e159-43f8-8710-a903f3bf299a",
     "prev": "fe45bf37-773f-43aa-b002-7c531beae5ed",
     "regions": {
      "7a218e95-a933-4595-bc5e-cd99a49394b4": {
       "attrs": {
        "height": 0.8,
        "width": 0.8,
        "x": 0.1,
        "y": 0.1
       },
       "content": {
        "cell": "0c2a805e-257f-4787-b4e9-55c10e692ad2",
        "part": "whole"
       },
       "id": "7a218e95-a933-4595-bc5e-cd99a49394b4"
      }
     }
    },
    "498cc507-5a4d-4798-a76a-9f93fe215032": {
     "id": "498cc507-5a4d-4798-a76a-9f93fe215032",
     "prev": "ae190cb3-328c-4a64-9270-3eb6d0fbf4b0",
     "regions": {
      "05910642-020b-493b-8321-a48bff4a4eed": {
       "attrs": {
        "height": 0.8,
        "width": 0.8,
        "x": 0.1,
        "y": 0.1
       },
       "content": {
        "cell": "9d64c842-1c83-4c89-a4b8-70c359b8c993",
        "part": "whole"
       },
       "id": "05910642-020b-493b-8321-a48bff4a4eed"
      }
     }
    },
    "5134d02e-3ca8-4e65-8204-01c1f3032412": {
     "id": "5134d02e-3ca8-4e65-8204-01c1f3032412",
     "prev": "911b023d-5ee9-4ac0-a2b5-3a9dee7deee6",
     "regions": {
      "8db1bbc8-4be3-4b5a-8562-fd8ffc9f1100": {
       "attrs": {
        "height": 0.8,
        "width": 0.8,
        "x": 0.1,
        "y": 0.1
       },
       "content": {
        "cell": "e5a7e315-df4f-4d8f-abd6-74d032ea3088",
        "part": "whole"
       },
       "id": "8db1bbc8-4be3-4b5a-8562-fd8ffc9f1100"
      }
     }
    },
    "572d49fa-e9f3-4bc2-9d89-951b95871ec7": {
     "id": "572d49fa-e9f3-4bc2-9d89-951b95871ec7",
     "prev": "79c67d15-985e-4f22-a2b1-7d70e16ad5d7",
     "regions": {
      "0dd5e124-d817-4d3f-bb45-dda64ef1b37f": {
       "attrs": {
        "height": 0.8,
        "width": 0.8,
        "x": 0.1,
        "y": 0.1
       },
       "content": {
        "cell": "d2192dac-f0ea-4900-9b41-48c4f4ef539b",
        "part": "whole"
       },
       "id": "0dd5e124-d817-4d3f-bb45-dda64ef1b37f"
      }
     }
    },
    "585f8841-9391-40f3-94b8-db690c65cf3d": {
     "id": "585f8841-9391-40f3-94b8-db690c65cf3d",
     "prev": "8ed95f88-bc00-45a6-a607-bbaf7104331b",
     "regions": {
      "c88116e3-732b-4721-981b-ccb3602af4b2": {
       "attrs": {
        "height": 0.8,
        "width": 0.8,
        "x": 0.1,
        "y": 0.1
       },
       "content": {
        "cell": "ee52cf40-9995-4763-8ba5-2dc79fa764fc",
        "part": "whole"
       },
       "id": "c88116e3-732b-4721-981b-ccb3602af4b2"
      }
     }
    },
    "5999389b-6cb6-4f90-8e68-e437865bf433": {
     "id": "5999389b-6cb6-4f90-8e68-e437865bf433",
     "prev": "ed52c280-22cf-4bcb-be45-688a1c41697d",
     "regions": {
      "fe7c29e1-f9b2-4b8a-a789-280740bf7ade": {
       "attrs": {
        "height": 0.8,
        "width": 0.8,
        "x": 0.1,
        "y": 0.1
       },
       "content": {
        "cell": "63f00b28-4a15-4735-84a9-61587fc30084",
        "part": "whole"
       },
       "id": "fe7c29e1-f9b2-4b8a-a789-280740bf7ade"
      }
     }
    },
    "5b5e8359-bb0a-4a58-9760-c36d4be24d93": {
     "id": "5b5e8359-bb0a-4a58-9760-c36d4be24d93",
     "prev": "dcb3fc5b-4362-41f3-9550-f811787a810f",
     "regions": {
      "3010b440-5765-47a1-9b3b-a6164a2bd4c2": {
       "attrs": {
        "height": 0.8,
        "width": 0.8,
        "x": 0.1,
        "y": 0.1
       },
       "content": {
        "cell": "fb3a1ab9-7fd0-4fd8-a9c5-08c775b9f7dd",
        "part": "whole"
       },
       "id": "3010b440-5765-47a1-9b3b-a6164a2bd4c2"
      }
     }
    },
    "5eb227ac-ca5e-49c7-bf87-8300b799f0c6": {
     "id": "5eb227ac-ca5e-49c7-bf87-8300b799f0c6",
     "prev": "44478b13-e391-41ac-911d-ba5b66e03cd4",
     "regions": {
      "6ab271b1-100d-4d16-8c4d-75db85aaf2e2": {
       "attrs": {
        "height": 0.8,
        "width": 0.8,
        "x": 0.1,
        "y": 0.1
       },
       "content": {
        "cell": "97c81409-d28e-4148-b2d4-61ef783c4eea",
        "part": "whole"
       },
       "id": "6ab271b1-100d-4d16-8c4d-75db85aaf2e2"
      }
     }
    },
    "68936dd8-e92f-4772-b107-5daa11d00fe7": {
     "id": "68936dd8-e92f-4772-b107-5daa11d00fe7",
     "prev": "2180d8a5-4e5e-401a-9b9c-35ab24d781f9",
     "regions": {
      "e87af5b1-2002-45d8-be0b-a6c4d1b9203c": {
       "attrs": {
        "height": 0.8,
        "width": 0.8,
        "x": 0.1,
        "y": 0.1
       },
       "content": {
        "cell": "2312197c-72ca-4541-9f20-c9ca0cb1c1b4",
        "part": "whole"
       },
       "id": "e87af5b1-2002-45d8-be0b-a6c4d1b9203c"
      }
     }
    },
    "6ced08ad-6170-4008-95f2-cc0c75d17b33": {
     "id": "6ced08ad-6170-4008-95f2-cc0c75d17b33",
     "prev": "b5597277-4460-4b80-9f92-a3f90ebfee1c",
     "regions": {
      "4e99de2a-6122-458f-b168-8b3f32631726": {
       "attrs": {
        "height": 0.8,
        "width": 0.8,
        "x": 0.1,
        "y": 0.1
       },
       "content": {
        "cell": "4a31397e-7ff0-404e-bf74-f3156649709c",
        "part": "whole"
       },
       "id": "4e99de2a-6122-458f-b168-8b3f32631726"
      }
     }
    },
    "6ec51b6b-cac5-45cb-872a-4e5ed63876bf": {
     "id": "6ec51b6b-cac5-45cb-872a-4e5ed63876bf",
     "prev": "d3b75b94-4baf-4c6e-8bf9-75e0614bab46",
     "regions": {
      "fbcd2ed5-571d-432d-9ed0-26227bfc9e8c": {
       "attrs": {
        "height": 0.8,
        "width": 0.8,
        "x": 0.1,
        "y": 0.1
       },
       "content": {
        "cell": "e8079140-ea6f-4ffd-ac65-6f5d4357f639",
        "part": "whole"
       },
       "id": "fbcd2ed5-571d-432d-9ed0-26227bfc9e8c"
      }
     }
    },
    "763d6452-3be7-4388-8768-847336272ede": {
     "id": "763d6452-3be7-4388-8768-847336272ede",
     "prev": "a5cac2f0-d06d-4041-b651-5bd7eb04c388",
     "regions": {
      "1b20bb7a-9771-4a23-ba99-0a9d8f1426d9": {
       "attrs": {
        "height": 0.8,
        "width": 0.8,
        "x": 0.1,
        "y": 0.1
       },
       "content": {
        "cell": "a06ec600-603c-4a57-b0de-d8152590413b",
        "part": "whole"
       },
       "id": "1b20bb7a-9771-4a23-ba99-0a9d8f1426d9"
      }
     }
    },
    "79c67d15-985e-4f22-a2b1-7d70e16ad5d7": {
     "id": "79c67d15-985e-4f22-a2b1-7d70e16ad5d7",
     "prev": "2ae73fcc-f40b-4186-807f-001ee613811f",
     "regions": {
      "84e6ec7c-2e71-4fe8-b4e7-6afe5c128ce3": {
       "attrs": {
        "height": 0.8,
        "width": 0.8,
        "x": 0.1,
        "y": 0.1
       },
       "content": {
        "cell": "b576bd69-7b86-4e2c-a2ec-713107aa5780",
        "part": "whole"
       },
       "id": "84e6ec7c-2e71-4fe8-b4e7-6afe5c128ce3"
      }
     }
    },
    "7b65e50c-9a5a-40dc-af30-6be93626e9ce": {
     "id": "7b65e50c-9a5a-40dc-af30-6be93626e9ce",
     "prev": "6ced08ad-6170-4008-95f2-cc0c75d17b33",
     "regions": {
      "b893946e-f8a7-4cb2-9ab9-9aea18108744": {
       "attrs": {
        "height": 0.8,
        "width": 0.8,
        "x": 0.1,
        "y": 0.1
       },
       "content": {
        "cell": "0da98b9c-4c69-4428-b5ef-82612dc8ff80",
        "part": "whole"
       },
       "id": "b893946e-f8a7-4cb2-9ab9-9aea18108744"
      }
     }
    },
    "7bb5d5f4-6797-4f9d-90f3-5b90eded66d4": {
     "id": "7bb5d5f4-6797-4f9d-90f3-5b90eded66d4",
     "prev": "46598542-dc74-46fc-99c3-959aa213305f",
     "regions": {
      "394751ff-95e3-4e61-b880-bb8113e9da55": {
       "attrs": {
        "height": 0.8,
        "width": 0.8,
        "x": 0.1,
        "y": 0.1
       },
       "content": {
        "cell": "30a02334-a6db-49b7-9b23-04938b7f7f10",
        "part": "whole"
       },
       "id": "394751ff-95e3-4e61-b880-bb8113e9da55"
      }
     }
    },
    "7cef1880-69ee-48cf-805d-aa02f871d517": {
     "id": "7cef1880-69ee-48cf-805d-aa02f871d517",
     "prev": "46a2336d-5c41-48d7-9692-660743356580",
     "regions": {
      "4145ab79-2279-403d-9d3f-918c3dd58ec7": {
       "attrs": {
        "height": 0.8,
        "width": 0.8,
        "x": 0.1,
        "y": 0.1
       },
       "content": {
        "cell": "6b8f326c-8157-4a9c-8cb6-76f4e515dca7",
        "part": "whole"
       },
       "id": "4145ab79-2279-403d-9d3f-918c3dd58ec7"
      }
     }
    },
    "841f5f94-2809-4ef6-83bc-1813ff54291c": {
     "id": "841f5f94-2809-4ef6-83bc-1813ff54291c",
     "prev": "361feedd-5148-49b3-8ef8-2eb4ed7b8767",
     "regions": {
      "c38afb75-cb5c-4b89-bda1-24454bf6a2d6": {
       "attrs": {
        "height": 0.8,
        "width": 0.8,
        "x": 0.1,
        "y": 0.1
       },
       "content": {
        "cell": "315fb3a9-4953-43b2-9fa0-adf79856eaa1",
        "part": "whole"
       },
       "id": "c38afb75-cb5c-4b89-bda1-24454bf6a2d6"
      }
     }
    },
    "8a8a13bc-163f-4948-860d-49ddf4714a72": {
     "id": "8a8a13bc-163f-4948-860d-49ddf4714a72",
     "prev": "b6c83fa4-0e9e-44e3-b387-a7542415c8f6",
     "regions": {
      "36699ef7-62ec-4657-937a-f7f7591d5dd5": {
       "attrs": {
        "height": 0.8,
        "width": 0.8,
        "x": 0.1,
        "y": 0.1
       },
       "content": {
        "cell": "caac78d6-a1c5-4944-92ce-0452050967ea",
        "part": "whole"
       },
       "id": "36699ef7-62ec-4657-937a-f7f7591d5dd5"
      }
     }
    },
    "8ed95f88-bc00-45a6-a607-bbaf7104331b": {
     "id": "8ed95f88-bc00-45a6-a607-bbaf7104331b",
     "prev": "2792bbd7-b3b2-444a-bbcc-c2f3ed07f01d",
     "regions": {
      "d3ba174a-0370-47ba-bd0f-ea5799798021": {
       "attrs": {
        "height": 0.8,
        "width": 0.8,
        "x": 0.1,
        "y": 0.1
       },
       "content": {
        "cell": "0925ce66-2979-4b39-9058-ef59b3271412",
        "part": "whole"
       },
       "id": "d3ba174a-0370-47ba-bd0f-ea5799798021"
      }
     }
    },
    "911b023d-5ee9-4ac0-a2b5-3a9dee7deee6": {
     "id": "911b023d-5ee9-4ac0-a2b5-3a9dee7deee6",
     "prev": "c92028c2-1280-4427-89d0-9c4361ba08a4",
     "regions": {
      "058f1167-7ea4-4b5b-9fd8-bb8bf1886052": {
       "attrs": {
        "height": 0.8,
        "width": 0.8,
        "x": 0.1,
        "y": 0.1
       },
       "content": {
        "cell": "93ae2a93-24b0-4efc-a32d-7cae4e868c6f",
        "part": "whole"
       },
       "id": "058f1167-7ea4-4b5b-9fd8-bb8bf1886052"
      }
     }
    },
    "93929abe-ad56-4c3f-9dc1-c5ab3763219a": {
     "id": "93929abe-ad56-4c3f-9dc1-c5ab3763219a",
     "prev": "5134d02e-3ca8-4e65-8204-01c1f3032412",
     "regions": {
      "b3f50aa7-f78d-4655-b6a0-ad35316c02d9": {
       "attrs": {
        "height": 0.8,
        "width": 0.8,
        "x": 0.1,
        "y": 0.1
       },
       "content": {
        "cell": "a2156749-d186-4770-bbc3-abeacca03719",
        "part": "whole"
       },
       "id": "b3f50aa7-f78d-4655-b6a0-ad35316c02d9"
      }
     }
    },
    "95759535-bdd4-4a59-a751-c1d6da839d62": {
     "id": "95759535-bdd4-4a59-a751-c1d6da839d62",
     "prev": "7bb5d5f4-6797-4f9d-90f3-5b90eded66d4",
     "regions": {
      "e8c55dee-4a40-4198-ac1f-58d24c7a4ca7": {
       "attrs": {
        "height": 0.8,
        "width": 0.8,
        "x": 0.1,
        "y": 0.1
       },
       "content": {
        "cell": "5f68f114-0fe7-4865-9183-ffc6c98eac10",
        "part": "whole"
       },
       "id": "e8c55dee-4a40-4198-ac1f-58d24c7a4ca7"
      }
     }
    },
    "98452f06-9b7b-425b-b63a-1a25b915218f": {
     "id": "98452f06-9b7b-425b-b63a-1a25b915218f",
     "prev": "e4e6b4b8-1b03-4d75-98cf-9b5e9ffb50f3",
     "regions": {
      "172b98c6-2df9-4913-982d-ddf704aaeab8": {
       "attrs": {
        "height": 0.8,
        "width": 0.8,
        "x": 0.1,
        "y": 0.1
       },
       "content": {
        "cell": "37ec06c2-bccc-4127-bbe0-4305b0e49213",
        "part": "whole"
       },
       "id": "172b98c6-2df9-4913-982d-ddf704aaeab8"
      }
     }
    },
    "98b186da-d217-4ebe-87b7-b8ce25421a2a": {
     "id": "98b186da-d217-4ebe-87b7-b8ce25421a2a",
     "prev": "7b65e50c-9a5a-40dc-af30-6be93626e9ce",
     "regions": {
      "913268a1-8fff-4176-80d4-3042515a6de0": {
       "attrs": {
        "height": 0.8,
        "width": 0.8,
        "x": 0.1,
        "y": 0.1
       },
       "content": {
        "cell": "e38096ba-013f-4268-829a-ca994c223499",
        "part": "whole"
       },
       "id": "913268a1-8fff-4176-80d4-3042515a6de0"
      }
     }
    },
    "98e5ac18-7c5a-4a64-89cf-9d03bbb38f3d": {
     "id": "98e5ac18-7c5a-4a64-89cf-9d03bbb38f3d",
     "prev": "23b36c07-60e3-4f90-92ac-0e99be8b9cb9",
     "regions": {
      "ebd595c3-4cfc-4e6b-8855-98f160acea4d": {
       "attrs": {
        "height": 0.8,
        "width": 0.8,
        "x": 0.1,
        "y": 0.1
       },
       "content": {
        "cell": "4d25294c-7291-4fc3-9697-aab6491fea15",
        "part": "whole"
       },
       "id": "ebd595c3-4cfc-4e6b-8855-98f160acea4d"
      }
     }
    },
    "9b81c4e5-a703-4fa6-91d8-fd9fce0cd1a2": {
     "id": "9b81c4e5-a703-4fa6-91d8-fd9fce0cd1a2",
     "prev": "407956d1-3312-4f25-b66e-2c69be33e6ab",
     "regions": {
      "7aba6b47-22ed-41d0-a419-6ccb16e9b69f": {
       "attrs": {
        "height": 0.8,
        "width": 0.8,
        "x": 0.1,
        "y": 0.1
       },
       "content": {
        "cell": "20697311-8a17-4f45-8fb2-77ebc103f060",
        "part": "whole"
       },
       "id": "7aba6b47-22ed-41d0-a419-6ccb16e9b69f"
      }
     }
    },
    "a4ea7b5b-6346-4c2b-b7da-b4a14870c24a": {
     "id": "a4ea7b5b-6346-4c2b-b7da-b4a14870c24a",
     "prev": "0e6b0cd4-5ce5-4122-befb-e52fb04da7ae",
     "regions": {
      "326a4fce-6e2c-4b92-931f-c13cb3f8bb1c": {
       "attrs": {
        "height": 0.8,
        "width": 0.8,
        "x": 0.1,
        "y": 0.1
       },
       "content": {
        "cell": "eed577fb-03a0-4c9d-a6a4-7f9a5d881074",
        "part": "whole"
       },
       "id": "326a4fce-6e2c-4b92-931f-c13cb3f8bb1c"
      }
     }
    },
    "a5cac2f0-d06d-4041-b651-5bd7eb04c388": {
     "id": "a5cac2f0-d06d-4041-b651-5bd7eb04c388",
     "prev": "5eb227ac-ca5e-49c7-bf87-8300b799f0c6",
     "regions": {
      "7d0a3fb1-904b-45bf-9beb-afacd35b9c49": {
       "attrs": {
        "height": 0.8,
        "width": 0.8,
        "x": 0.1,
        "y": 0.1
       },
       "content": {
        "cell": "27fc9a65-0905-446e-9776-9c2f2bd15659",
        "part": "whole"
       },
       "id": "7d0a3fb1-904b-45bf-9beb-afacd35b9c49"
      }
     }
    },
    "a9b34f4e-c2d9-4504-9ac2-f3573516c4aa": {
     "id": "a9b34f4e-c2d9-4504-9ac2-f3573516c4aa",
     "prev": "5b5e8359-bb0a-4a58-9760-c36d4be24d93",
     "regions": {
      "c172f01c-bec6-49b7-965c-2f851289d0b8": {
       "attrs": {
        "height": 0.8,
        "width": 0.8,
        "x": 0.1,
        "y": 0.1
       },
       "content": {
        "cell": "946b05da-fd14-48b2-8d21-2d85c9edce7a",
        "part": "whole"
       },
       "id": "c172f01c-bec6-49b7-965c-2f851289d0b8"
      }
     }
    },
    "aa965654-895c-44f6-80f6-840e1da71cb9": {
     "id": "aa965654-895c-44f6-80f6-840e1da71cb9",
     "prev": "f12614e9-f3d6-4844-a33c-97879440b76f",
     "regions": {
      "6b7022cf-3034-455a-811a-2b54fddcbdad": {
       "attrs": {
        "height": 0.8,
        "width": 0.8,
        "x": 0.1,
        "y": 0.1
       },
       "content": {
        "cell": "ee24af78-f4eb-490d-801a-ee20c8a0713c",
        "part": "whole"
       },
       "id": "6b7022cf-3034-455a-811a-2b54fddcbdad"
      }
     }
    },
    "ac0512b1-cf63-4fc7-80c3-c5aadb4a3880": {
     "id": "ac0512b1-cf63-4fc7-80c3-c5aadb4a3880",
     "prev": "10a5d0d5-cb6f-40b7-9ce0-03dc50603c48",
     "regions": {
      "82870c01-f96a-4a4a-8086-5497679f246e": {
       "attrs": {
        "height": 0.8,
        "width": 0.8,
        "x": 0.1,
        "y": 0.1
       },
       "content": {
        "cell": "9d2a21d5-d929-4833-b657-7262a73a2bd5",
        "part": "whole"
       },
       "id": "82870c01-f96a-4a4a-8086-5497679f246e"
      }
     }
    },
    "ae190cb3-328c-4a64-9270-3eb6d0fbf4b0": {
     "id": "ae190cb3-328c-4a64-9270-3eb6d0fbf4b0",
     "prev": "de7188da-6673-4c79-9b4e-4e2e1e20bc59",
     "regions": {
      "3a05b54a-5635-46c9-9905-49142eb32270": {
       "attrs": {
        "height": 0.8,
        "width": 0.8,
        "x": 0.1,
        "y": 0.1
       },
       "content": {
        "cell": "165ea6e4-72e1-410a-b332-8558c904da31",
        "part": "whole"
       },
       "id": "3a05b54a-5635-46c9-9905-49142eb32270"
      }
     }
    },
    "b5597277-4460-4b80-9f92-a3f90ebfee1c": {
     "id": "b5597277-4460-4b80-9f92-a3f90ebfee1c",
     "prev": "7cef1880-69ee-48cf-805d-aa02f871d517",
     "regions": {
      "62c17548-5861-425f-9fe7-a19262522e11": {
       "attrs": {
        "height": 0.8,
        "width": 0.8,
        "x": 0.1,
        "y": 0.1
       },
       "content": {
        "cell": "23a9745b-2281-476a-a4d4-7d40b222fbf7",
        "part": "whole"
       },
       "id": "62c17548-5861-425f-9fe7-a19262522e11"
      }
     }
    },
    "b6c83fa4-0e9e-44e3-b387-a7542415c8f6": {
     "id": "b6c83fa4-0e9e-44e3-b387-a7542415c8f6",
     "prev": "bb3e1872-c700-4e86-876a-eb5c3a4d5fea",
     "regions": {
      "8903c248-50a7-4d27-bdaa-8465324685bf": {
       "attrs": {
        "height": 0.8,
        "width": 0.8,
        "x": 0.1,
        "y": 0.1
       },
       "content": {
        "cell": "618ed5c5-2ef7-4a1b-9fea-ae5a0ae158b3",
        "part": "whole"
       },
       "id": "8903c248-50a7-4d27-bdaa-8465324685bf"
      }
     }
    },
    "b79248cf-effb-4111-9893-2413bc936b63": {
     "id": "b79248cf-effb-4111-9893-2413bc936b63",
     "prev": "d2db350d-0cd3-44fe-bff7-a5033c4acb7f",
     "regions": {
      "d831911b-4900-4f1c-9d55-47cffc104ed5": {
       "attrs": {
        "height": 0.8,
        "width": 0.8,
        "x": 0.1,
        "y": 0.1
       },
       "content": {
        "cell": "baa5891e-813a-4490-90d4-b2d9ab1310ed",
        "part": "whole"
       },
       "id": "d831911b-4900-4f1c-9d55-47cffc104ed5"
      }
     }
    },
    "b8a4a15e-f343-46eb-984a-98e99a1e6fe1": {
     "id": "b8a4a15e-f343-46eb-984a-98e99a1e6fe1",
     "prev": "3de1e291-982b-4c12-9697-1a1a18db9935",
     "regions": {
      "98bebcad-dc7a-44a0-8bce-89bf6152d5ce": {
       "attrs": {
        "height": 0.8,
        "width": 0.8,
        "x": 0.1,
        "y": 0.1
       },
       "content": {
        "cell": "de567818-e1c6-4d7f-84be-90d431838e09",
        "part": "whole"
       },
       "id": "98bebcad-dc7a-44a0-8bce-89bf6152d5ce"
      }
     }
    },
    "bb3e1872-c700-4e86-876a-eb5c3a4d5fea": {
     "id": "bb3e1872-c700-4e86-876a-eb5c3a4d5fea",
     "prev": "4957bce2-e159-43f8-8710-a903f3bf299a",
     "regions": {
      "b8d0e4e6-26ac-4c8b-aac2-96f58bdce599": {
       "attrs": {
        "height": 0.8,
        "width": 0.8,
        "x": 0.1,
        "y": 0.1
       },
       "content": {
        "cell": "d8a65ef7-973d-4de8-bbae-9f4c264b7c95",
        "part": "whole"
       },
       "id": "b8d0e4e6-26ac-4c8b-aac2-96f58bdce599"
      }
     }
    },
    "bd0a700b-4561-4cc7-8dec-b6330eaa455b": {
     "id": "bd0a700b-4561-4cc7-8dec-b6330eaa455b",
     "prev": "9b81c4e5-a703-4fa6-91d8-fd9fce0cd1a2",
     "regions": {
      "2707b39f-97e4-419b-b7be-3939c58f338c": {
       "attrs": {
        "height": 0.8,
        "width": 0.8,
        "x": 0.1,
        "y": 0.1
       },
       "content": {
        "cell": "fcfde519-1698-422a-ba17-067ea762484e",
        "part": "whole"
       },
       "id": "2707b39f-97e4-419b-b7be-3939c58f338c"
      }
     }
    },
    "c2d209ec-a7f6-49d0-8179-4713493468c2": {
     "id": "c2d209ec-a7f6-49d0-8179-4713493468c2",
     "prev": "a9b34f4e-c2d9-4504-9ac2-f3573516c4aa",
     "regions": {
      "6e7cb924-5bd9-4afb-89e8-8464100ebd9c": {
       "attrs": {
        "height": 0.8,
        "width": 0.8,
        "x": 0.1,
        "y": 0.1
       },
       "content": {
        "cell": "c08c2180-ad58-44c8-a77a-ce2a2de7b19f",
        "part": "whole"
       },
       "id": "6e7cb924-5bd9-4afb-89e8-8464100ebd9c"
      }
     }
    },
    "c8fe2f53-9499-4b1b-bd73-c7dee76e0b38": {
     "id": "c8fe2f53-9499-4b1b-bd73-c7dee76e0b38",
     "prev": "b79248cf-effb-4111-9893-2413bc936b63",
     "regions": {
      "74cca4b4-7d23-4e35-a7ef-371c13b4401c": {
       "attrs": {
        "height": 0.8,
        "width": 0.8,
        "x": 0.1,
        "y": 0.1
       },
       "content": {
        "cell": "e34332fd-9a78-4222-8997-2b6645450905",
        "part": "whole"
       },
       "id": "74cca4b4-7d23-4e35-a7ef-371c13b4401c"
      }
     }
    },
    "c92028c2-1280-4427-89d0-9c4361ba08a4": {
     "id": "c92028c2-1280-4427-89d0-9c4361ba08a4",
     "prev": "498cc507-5a4d-4798-a76a-9f93fe215032",
     "regions": {
      "4b928c3d-4318-450e-b417-4497cdc45031": {
       "attrs": {
        "height": 0.8,
        "width": 0.8,
        "x": 0.1,
        "y": 0.1
       },
       "content": {
        "cell": "639d8cf6-62ab-49d3-b2eb-6573f0963339",
        "part": "whole"
       },
       "id": "4b928c3d-4318-450e-b417-4497cdc45031"
      }
     }
    },
    "c9c1404a-0fb9-4782-9427-6bcf526907a2": {
     "id": "c9c1404a-0fb9-4782-9427-6bcf526907a2",
     "prev": "6ec51b6b-cac5-45cb-872a-4e5ed63876bf",
     "regions": {
      "196192bf-43b4-4fd9-8755-7db7f3678e0a": {
       "attrs": {
        "height": 0.8,
        "width": 0.8,
        "x": 0.1,
        "y": 0.1
       },
       "content": {
        "cell": "1134d818-73ba-40e2-9263-13bdd31b9e84",
        "part": "whole"
       },
       "id": "196192bf-43b4-4fd9-8755-7db7f3678e0a"
      }
     }
    },
    "d2db350d-0cd3-44fe-bff7-a5033c4acb7f": {
     "id": "d2db350d-0cd3-44fe-bff7-a5033c4acb7f",
     "prev": "98b186da-d217-4ebe-87b7-b8ce25421a2a",
     "regions": {
      "dc4f812c-8687-43a5-9ab8-afa1ff6e8461": {
       "attrs": {
        "height": 0.8,
        "width": 0.8,
        "x": 0.1,
        "y": 0.1
       },
       "content": {
        "cell": "170aac36-a47f-451d-876b-759ee6b9d74f",
        "part": "whole"
       },
       "id": "dc4f812c-8687-43a5-9ab8-afa1ff6e8461"
      }
     }
    },
    "d3b75b94-4baf-4c6e-8bf9-75e0614bab46": {
     "id": "d3b75b94-4baf-4c6e-8bf9-75e0614bab46",
     "prev": "c2d209ec-a7f6-49d0-8179-4713493468c2",
     "regions": {
      "3bbf947d-ad89-42b2-9e78-3858c0263728": {
       "attrs": {
        "height": 0.8,
        "width": 0.8,
        "x": 0.1,
        "y": 0.1
       },
       "content": {
        "cell": "54a5bd50-19d1-4411-9125-865440ebc88e",
        "part": "whole"
       },
       "id": "3bbf947d-ad89-42b2-9e78-3858c0263728"
      }
     }
    },
    "d76d1926-4576-4107-9bb2-a381780b2d32": {
     "id": "d76d1926-4576-4107-9bb2-a381780b2d32",
     "prev": "ef17b639-dd49-4542-adde-580abb0df694",
     "regions": {
      "4775f52b-27a1-418f-b176-27416603a506": {
       "attrs": {
        "height": 0.8,
        "width": 0.8,
        "x": 0.1,
        "y": 0.1
       },
       "content": {
        "cell": "c42335af-8318-4e07-be97-16b65da30e04",
        "part": "whole"
       },
       "id": "4775f52b-27a1-418f-b176-27416603a506"
      }
     }
    },
    "dcb3fc5b-4362-41f3-9550-f811787a810f": {
     "id": "dcb3fc5b-4362-41f3-9550-f811787a810f",
     "prev": "20e9caf7-a92e-4aa1-a944-dd40edc506b1",
     "regions": {
      "aafb798e-9ee5-42e4-8f39-11e2d0ce8630": {
       "attrs": {
        "height": 0.8,
        "width": 0.8,
        "x": 0.1,
        "y": 0.1
       },
       "content": {
        "cell": "6ac9b447-d11b-4a20-ba96-b478e528bf8f",
        "part": "whole"
       },
       "id": "aafb798e-9ee5-42e4-8f39-11e2d0ce8630"
      }
     }
    },
    "dd782e2b-6894-4753-8c01-ef19bc16deba": {
     "id": "dd782e2b-6894-4753-8c01-ef19bc16deba",
     "prev": "02cb12e0-7619-4700-b09c-6065be914a95",
     "regions": {
      "18bb72ab-c8e0-4a0d-90fd-26449e0dea3f": {
       "attrs": {
        "height": 0.8,
        "width": 0.8,
        "x": 0.1,
        "y": 0.1
       },
       "content": {
        "cell": "a2aff8af-c038-4aa4-a0fa-3b08eb7fbe10",
        "part": "whole"
       },
       "id": "18bb72ab-c8e0-4a0d-90fd-26449e0dea3f"
      }
     }
    },
    "de7188da-6673-4c79-9b4e-4e2e1e20bc59": {
     "id": "de7188da-6673-4c79-9b4e-4e2e1e20bc59",
     "prev": "dd782e2b-6894-4753-8c01-ef19bc16deba",
     "regions": {
      "756a3525-999f-498b-b0cd-27bb9760fe6d": {
       "attrs": {
        "height": 0.8,
        "width": 0.8,
        "x": 0.1,
        "y": 0.1
       },
       "content": {
        "cell": "2e426271-7e7d-4194-b9d7-6b8284b2f11a",
        "part": "whole"
       },
       "id": "756a3525-999f-498b-b0cd-27bb9760fe6d"
      }
     }
    },
    "e4e6b4b8-1b03-4d75-98cf-9b5e9ffb50f3": {
     "id": "e4e6b4b8-1b03-4d75-98cf-9b5e9ffb50f3",
     "prev": "68936dd8-e92f-4772-b107-5daa11d00fe7",
     "regions": {
      "b22f889c-021e-4a63-9612-9885f2739751": {
       "attrs": {
        "height": 0.8,
        "width": 0.8,
        "x": 0.1,
        "y": 0.1
       },
       "content": {
        "cell": "7996b762-da63-4e76-a582-a8b8fb095717",
        "part": "whole"
       },
       "id": "b22f889c-021e-4a63-9612-9885f2739751"
      }
     }
    },
    "ed52c280-22cf-4bcb-be45-688a1c41697d": {
     "id": "ed52c280-22cf-4bcb-be45-688a1c41697d",
     "prev": null,
     "regions": {
      "3bae3007-90e5-43b4-afab-7550c28c4a6b": {
       "attrs": {
        "height": 0.8,
        "width": 0.8,
        "x": 0.1,
        "y": 0.1
       },
       "content": {
        "cell": "ddd74744-2108-4bb6-ab40-0d2532bbf8b6",
        "part": "whole"
       },
       "id": "3bae3007-90e5-43b4-afab-7550c28c4a6b"
      }
     }
    },
    "ef17b639-dd49-4542-adde-580abb0df694": {
     "id": "ef17b639-dd49-4542-adde-580abb0df694",
     "prev": "bd0a700b-4561-4cc7-8dec-b6330eaa455b",
     "regions": {
      "19122ac5-9a09-425b-9848-9da133dee765": {
       "attrs": {
        "height": 0.8,
        "width": 0.8,
        "x": 0.1,
        "y": 0.1
       },
       "content": {
        "cell": "f7550c3b-bd04-40cd-8a61-4cb315188d5e",
        "part": "whole"
       },
       "id": "19122ac5-9a09-425b-9848-9da133dee765"
      }
     }
    },
    "f12614e9-f3d6-4844-a33c-97879440b76f": {
     "id": "f12614e9-f3d6-4844-a33c-97879440b76f",
     "prev": "06aa6c22-bf66-4c04-b6ff-d67b3173febd",
     "regions": {
      "f6af12f0-9999-43c3-8665-bd3f82ec89bd": {
       "attrs": {
        "height": 0.8,
        "width": 0.8,
        "x": 0.1,
        "y": 0.1
       },
       "content": {
        "cell": "9c41c995-3afa-4721-834c-e5d6669516de",
        "part": "whole"
       },
       "id": "f6af12f0-9999-43c3-8665-bd3f82ec89bd"
      }
     }
    },
    "f1b0425f-0e21-421b-8b7b-05f0f3b0a749": {
     "id": "f1b0425f-0e21-421b-8b7b-05f0f3b0a749",
     "prev": "ac0512b1-cf63-4fc7-80c3-c5aadb4a3880",
     "regions": {
      "163e4d6b-2acd-4797-9442-46ea0f3d7d7c": {
       "attrs": {
        "height": 0.8,
        "width": 0.8,
        "x": 0.1,
        "y": 0.1
       },
       "content": {
        "cell": "2d971b0d-c551-491f-9a86-b6442adaabe8",
        "part": "whole"
       },
       "id": "163e4d6b-2acd-4797-9442-46ea0f3d7d7c"
      }
     }
    },
    "fe1e2cb2-dc6a-4c03-a56a-6093e848d106": {
     "id": "fe1e2cb2-dc6a-4c03-a56a-6093e848d106",
     "prev": "c9c1404a-0fb9-4782-9427-6bcf526907a2",
     "regions": {
      "697c64b1-5f60-4e64-bf7e-ee6534615ecf": {
       "attrs": {
        "height": 0.8,
        "width": 0.8,
        "x": 0.1,
        "y": 0.1
       },
       "content": {
        "cell": "76f1229f-4579-4b99-91d2-dd3a4c2cb074",
        "part": "whole"
       },
       "id": "697c64b1-5f60-4e64-bf7e-ee6534615ecf"
      }
     }
    },
    "fe45bf37-773f-43aa-b002-7c531beae5ed": {
     "id": "fe45bf37-773f-43aa-b002-7c531beae5ed",
     "prev": "1e5b059c-3d66-4773-ab81-2e6f43d2165d",
     "regions": {
      "b16f2938-d1b3-4e5d-89ea-fb82b2d719bc": {
       "attrs": {
        "height": 0.8,
        "width": 0.8,
        "x": 0.1,
        "y": 0.1
       },
       "content": {
        "cell": "11867c43-3f95-426d-9201-d7cd7cfb7417",
        "part": "whole"
       },
       "id": "b16f2938-d1b3-4e5d-89ea-fb82b2d719bc"
      }
     }
    },
    "ffd5e044-afe0-4617-8d87-c4c5e29ed70e": {
     "id": "ffd5e044-afe0-4617-8d87-c4c5e29ed70e",
     "prev": "763d6452-3be7-4388-8768-847336272ede",
     "regions": {
      "6906077c-3ff0-4f70-8e93-42f6c441d2d9": {
       "attrs": {
        "height": 0.8,
        "width": 0.8,
        "x": 0.1,
        "y": 0.1
       },
       "content": {
        "cell": "9d489e70-1deb-4292-bba0-0194d65d3e16",
        "part": "whole"
       },
       "id": "6906077c-3ff0-4f70-8e93-42f6c441d2d9"
      }
     }
    }
   },
   "themes": {}
  }
 },
 "nbformat": 4,
 "nbformat_minor": 1
}
